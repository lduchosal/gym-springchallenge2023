{
 "cells": [
  {
   "cell_type": "markdown",
   "metadata": {
    "id": "I_i1q1TWG9zH"
   },
   "source": [
    "# Deep Crossentropy method\n",
    "\n",
    "In this section we'll extend your CEM implementation with neural networks! You will train a multi-layer neural network to solve simple continuous state space games. __Please make sure you're done with tabular crossentropy method from the previous notebook.__\n",
    "\n",
    "![img](https://watanimg.elwatannews.com/old_news_images/large/249765_Large_20140709045740_11.jpg)\n",
    "\n"
   ]
  },
  {
   "cell_type": "code",
   "execution_count": 1,
   "metadata": {
    "id": "t4CJ1sRyG9zJ",
    "ExecuteTime": {
     "end_time": "2023-09-18T15:41:09.550544Z",
     "start_time": "2023-09-18T15:41:09.527415Z"
    }
   },
   "outputs": [],
   "source": [
    "import sys, os\n",
    "if 'google.colab' in sys.modules and not os.path.exists('.setup_complete'):\n",
    "    !wget -q https://raw.githubusercontent.com/yandexdataschool/Practical_RL/master/setup_colab.sh -O- | bash\n",
    "    !touch .setup_complete\n",
    "\n",
    "# This code creates a virtual display to draw game images on.\n",
    "# It will have no effect if your machine has a monitor.\n",
    "if type(os.environ.get(\"DISPLAY\")) is not str or len(os.environ.get(\"DISPLAY\")) == 0:\n",
    "    !bash ../xvfb start\n",
    "    os.environ['DISPLAY'] = ':1'"
   ]
  },
  {
   "cell_type": "code",
   "execution_count": 2,
   "metadata": {
    "id": "C2xd5vPwPVCb",
    "ExecuteTime": {
     "end_time": "2023-09-18T15:41:18.337296Z",
     "start_time": "2023-09-18T15:41:11.611180Z"
    }
   },
   "outputs": [
    {
     "name": "stdout",
     "output_type": "stream",
     "text": [
      "Requirement already satisfied: gymnasium[classic_control,toy_text] in /usr/local/lib/python3.11/site-packages (0.29.1)\r\n",
      "Requirement already satisfied: numpy>=1.21.0 in /usr/local/lib/python3.11/site-packages (from gymnasium[classic_control,toy_text]) (1.26.0rc1)\r\n",
      "Requirement already satisfied: cloudpickle>=1.2.0 in /usr/local/lib/python3.11/site-packages (from gymnasium[classic_control,toy_text]) (2.2.1)\r\n",
      "Requirement already satisfied: typing-extensions>=4.3.0 in /usr/local/lib/python3.11/site-packages (from gymnasium[classic_control,toy_text]) (4.8.0rc1)\r\n",
      "Requirement already satisfied: farama-notifications>=0.0.1 in /usr/local/lib/python3.11/site-packages (from gymnasium[classic_control,toy_text]) (0.0.4)\r\n",
      "Requirement already satisfied: pygame>=2.1.3 in /usr/local/lib/python3.11/site-packages (from gymnasium[classic_control,toy_text]) (2.5.1)\r\n",
      "Requirement already satisfied: joblist in /usr/local/lib/python3.11/site-packages (2.0.3)\r\n",
      "Requirement already satisfied: w3lib in /usr/local/lib/python3.11/site-packages (from joblist) (2.1.2)\r\n"
     ]
    }
   ],
   "source": [
    "# Install gymnasium if you didn't\n",
    "!pip3 install \"gymnasium[toy_text,classic_control]\"\n",
    "!pip3 install joblist"
   ]
  },
  {
   "cell_type": "code",
   "execution_count": 3,
   "metadata": {
    "ExecuteTime": {
     "end_time": "2023-09-18T15:41:22.653212Z",
     "start_time": "2023-09-18T15:41:20.330946Z"
    }
   },
   "outputs": [
    {
     "name": "stdout",
     "output_type": "stream",
     "text": [
      "springchallenge2023 imported\n",
      "PyLeagueEnv __init__\n"
     ]
    }
   ],
   "source": [
    "from springchallenge2023.wrappers.EncodeCellType import EncodeCellType\n",
    "from springchallenge2023.wrappers.ComputeEggCrystalRatio import ComputeEggCrystalRatio\n",
    "from springchallenge2023.wrappers.Normalize import Normalize\n",
    "\n",
    "import gymnasium as gym\n",
    "\n",
    "from gymnasium.wrappers import FlattenObservation\n",
    "\n",
    "import sys\n",
    "sys.path.append('../')\n",
    "\n",
    "import numpy as np\n",
    "import matplotlib.pyplot as plt\n",
    "%matplotlib inline\n",
    "\n",
    "# if you see \"<classname> has no attribute .env\", remove .env or update gym\n",
    "env = gym.make(\"springchallenge2023/PyLeague-v0\", max_episode_steps=100, render_mode='human')\n",
    "env = EncodeCellType(env)                # obs (15, 11) int,   action (15,)\n",
    "env = ComputeEggCrystalRatio(env)        # { map = obs (15, 13) float, ratio = float }, action (15,)\n",
    "env = Normalize(env)                     # { map = obs (15, 13) float, ratio = float }, action (15,)\n",
    "env = FlattenObservation(env)            # obs (121, ) float, action (15,)\n",
    "seed = 10"
   ]
  },
  {
   "cell_type": "code",
   "execution_count": 4,
   "metadata": {
    "id": "_2zbc7ahG9zK",
    "ExecuteTime": {
     "end_time": "2023-09-18T15:41:24.797645Z",
     "start_time": "2023-09-18T15:41:24.780120Z"
    }
   },
   "outputs": [
    {
     "name": "stdout",
     "output_type": "stream",
     "text": [
      "state vector dim = 167\n",
      "n_actions = Box(0.0, 1.0, (15,), float64)\n"
     ]
    }
   ],
   "source": [
    "\n",
    "env.reset(seed=seed)\n",
    "n_actions = env.action_space\n",
    "state_dim = env.observation_space.shape[0]\n",
    "\n",
    "# plt.imshow(env.render())\n",
    "print(\"state vector dim =\", state_dim)\n",
    "print(\"n_actions =\", n_actions)\n",
    "\n",
    "#env.close()"
   ]
  },
  {
   "cell_type": "markdown",
   "metadata": {
    "id": "Z72_alhdG9zK"
   },
   "source": [
    "# Neural Network Policy\n",
    "\n",
    "For this assignment we'll utilize the simplified neural network implementation from __[Scikit-learn](https://scikit-learn.org/stable/modules/generated/sklearn.neural_network.MLPClassifier.html)__. Here's what you'll need:\n",
    "\n",
    "* `agent.partial_fit(states, actions)` - make a single training pass over the data. Maximize the probability of :actions: from :states:\n",
    "* `agent.predict_proba(states)` - predict probabilities of all actions, a matrix of shape __[len(states), n_actions]__\n"
   ]
  },
  {
   "cell_type": "code",
   "execution_count": 6,
   "metadata": {
    "id": "wLItY4unG9zL",
    "ExecuteTime": {
     "end_time": "2023-09-18T15:42:43.845724Z",
     "start_time": "2023-09-18T15:42:43.716549Z"
    }
   },
   "outputs": [
    {
     "name": "stdout",
     "output_type": "stream",
     "text": [
      "env0:  (122,)\n",
      "aenv0:  [array([1. , 0. , 0. , 0. , 0. , 0. , 0. , 0. , 1. , 0. , 0. , 0. , 0. ,\n",
      "       0. , 0. , 0. , 1. , 0. , 0. , 0. , 0. , 0. , 0. , 0. , 1. , 0. ,\n",
      "       0. , 0. , 0. , 0. , 0. , 0. , 1. , 0. , 0. , 0. , 0. , 0. , 0. ,\n",
      "       0. , 0. , 0. , 0. , 1. , 0. , 0. , 0. , 1. , 0. , 0. , 1. , 0. ,\n",
      "       0. , 0. , 1. , 0. , 1. , 0. , 0. , 0. , 0. , 0. , 0. , 0. , 1. ,\n",
      "       0. , 0. , 0. , 0. , 0. , 0. , 0. , 0. , 1. , 0. , 0. , 1. , 0. ,\n",
      "       0. , 0. , 0. , 1. , 0. , 0. , 1. , 0. , 0. , 0. , 1. , 0. , 0. ,\n",
      "       0. , 0. , 0. , 0. , 0. , 1. , 0. , 0. , 0. , 0. , 0. , 0. , 0. ,\n",
      "       1. , 0. , 0. , 0. , 0. , 0. , 0. , 0. , 1. , 0. , 0. , 0. , 0. ,\n",
      "       0. , 0. , 0. , 0.5, 1. ])]\n",
      "n_actions:  Box(0.0, 1.0, (15,), float64)\n",
      "act0:  [0.81901306 0.87807312 0.91603933 0.7096735  0.72917284 0.46048125\n",
      " 0.20609994 0.33649812 0.58794001 0.62654335 0.97636543 0.9534575\n",
      " 0.07250338 0.62470721 0.5623463 ]\n",
      "act0.shape:  (15,)\n"
     ]
    },
    {
     "ename": "ValueError",
     "evalue": "Unknown label type: (array([[0.81901306, 0.87807312, 0.91603933, 0.7096735 , 0.72917284,\n        0.46048125, 0.20609994, 0.33649812, 0.58794001, 0.62654335,\n        0.97636543, 0.9534575 , 0.07250338, 0.62470721, 0.5623463 ]]),)",
     "output_type": "error",
     "traceback": [
      "\u001B[0;31m---------------------------------------------------------------------------\u001B[0m",
      "\u001B[0;31mValueError\u001B[0m                                Traceback (most recent call last)",
      "Cell \u001B[0;32mIn[6], line 20\u001B[0m\n\u001B[1;32m     17\u001B[0m \u001B[38;5;28mprint\u001B[39m(\u001B[38;5;124m\"\u001B[39m\u001B[38;5;124mact0.shape: \u001B[39m\u001B[38;5;124m\"\u001B[39m, act0\u001B[38;5;241m.\u001B[39mshape)\n\u001B[1;32m     19\u001B[0m \u001B[38;5;66;03m# initialize agent to the dimension of state space and number of actions\u001B[39;00m\n\u001B[0;32m---> 20\u001B[0m \u001B[43magent\u001B[49m\u001B[38;5;241;43m.\u001B[39;49m\u001B[43mpartial_fit\u001B[49m\u001B[43m(\u001B[49m\u001B[43m[\u001B[49m\u001B[43menv0\u001B[49m\u001B[43m]\u001B[49m\u001B[43m,\u001B[49m\u001B[43m \u001B[49m\u001B[43m[\u001B[49m\u001B[43mact0\u001B[49m\u001B[43m]\u001B[49m\u001B[43m,\u001B[49m\u001B[43m \u001B[49m\u001B[43mclasses\u001B[49m\u001B[38;5;241;43m=\u001B[39;49m\u001B[43m[\u001B[49m\u001B[38;5;241;43m0\u001B[39;49m\u001B[43m,\u001B[49m\u001B[43m \u001B[49m\u001B[38;5;241;43m1\u001B[39;49m\u001B[43m]\u001B[49m\u001B[43m)\u001B[49m\n",
      "File \u001B[0;32m/usr/local/lib/python3.11/site-packages/sklearn/base.py:1151\u001B[0m, in \u001B[0;36m_fit_context.<locals>.decorator.<locals>.wrapper\u001B[0;34m(estimator, *args, **kwargs)\u001B[0m\n\u001B[1;32m   1144\u001B[0m     estimator\u001B[38;5;241m.\u001B[39m_validate_params()\n\u001B[1;32m   1146\u001B[0m \u001B[38;5;28;01mwith\u001B[39;00m config_context(\n\u001B[1;32m   1147\u001B[0m     skip_parameter_validation\u001B[38;5;241m=\u001B[39m(\n\u001B[1;32m   1148\u001B[0m         prefer_skip_nested_validation \u001B[38;5;129;01mor\u001B[39;00m global_skip_validation\n\u001B[1;32m   1149\u001B[0m     )\n\u001B[1;32m   1150\u001B[0m ):\n\u001B[0;32m-> 1151\u001B[0m     \u001B[38;5;28;01mreturn\u001B[39;00m \u001B[43mfit_method\u001B[49m\u001B[43m(\u001B[49m\u001B[43mestimator\u001B[49m\u001B[43m,\u001B[49m\u001B[43m \u001B[49m\u001B[38;5;241;43m*\u001B[39;49m\u001B[43margs\u001B[49m\u001B[43m,\u001B[49m\u001B[43m \u001B[49m\u001B[38;5;241;43m*\u001B[39;49m\u001B[38;5;241;43m*\u001B[39;49m\u001B[43mkwargs\u001B[49m\u001B[43m)\u001B[49m\n",
      "File \u001B[0;32m/usr/local/lib/python3.11/site-packages/sklearn/neural_network/_multilayer_perceptron.py:1209\u001B[0m, in \u001B[0;36mMLPClassifier.partial_fit\u001B[0;34m(self, X, y, classes)\u001B[0m\n\u001B[1;32m   1206\u001B[0m     \u001B[38;5;28;01melse\u001B[39;00m:\n\u001B[1;32m   1207\u001B[0m         \u001B[38;5;28mself\u001B[39m\u001B[38;5;241m.\u001B[39m_label_binarizer\u001B[38;5;241m.\u001B[39mfit(classes)\n\u001B[0;32m-> 1209\u001B[0m \u001B[38;5;28;01mreturn\u001B[39;00m \u001B[38;5;28;43mself\u001B[39;49m\u001B[38;5;241;43m.\u001B[39;49m\u001B[43m_fit\u001B[49m\u001B[43m(\u001B[49m\u001B[43mX\u001B[49m\u001B[43m,\u001B[49m\u001B[43m \u001B[49m\u001B[43my\u001B[49m\u001B[43m,\u001B[49m\u001B[43m \u001B[49m\u001B[43mincremental\u001B[49m\u001B[38;5;241;43m=\u001B[39;49m\u001B[38;5;28;43;01mTrue\u001B[39;49;00m\u001B[43m)\u001B[49m\n",
      "File \u001B[0;32m/usr/local/lib/python3.11/site-packages/sklearn/neural_network/_multilayer_perceptron.py:442\u001B[0m, in \u001B[0;36mBaseMultilayerPerceptron._fit\u001B[0;34m(self, X, y, incremental)\u001B[0m\n\u001B[1;32m    435\u001B[0m     \u001B[38;5;28;01mraise\u001B[39;00m \u001B[38;5;167;01mValueError\u001B[39;00m(\n\u001B[1;32m    436\u001B[0m         \u001B[38;5;124m\"\u001B[39m\u001B[38;5;124mhidden_layer_sizes must be > 0, got \u001B[39m\u001B[38;5;132;01m%s\u001B[39;00m\u001B[38;5;124m.\u001B[39m\u001B[38;5;124m\"\u001B[39m \u001B[38;5;241m%\u001B[39m hidden_layer_sizes\n\u001B[1;32m    437\u001B[0m     )\n\u001B[1;32m    438\u001B[0m first_pass \u001B[38;5;241m=\u001B[39m \u001B[38;5;129;01mnot\u001B[39;00m \u001B[38;5;28mhasattr\u001B[39m(\u001B[38;5;28mself\u001B[39m, \u001B[38;5;124m\"\u001B[39m\u001B[38;5;124mcoefs_\u001B[39m\u001B[38;5;124m\"\u001B[39m) \u001B[38;5;129;01mor\u001B[39;00m (\n\u001B[1;32m    439\u001B[0m     \u001B[38;5;129;01mnot\u001B[39;00m \u001B[38;5;28mself\u001B[39m\u001B[38;5;241m.\u001B[39mwarm_start \u001B[38;5;129;01mand\u001B[39;00m \u001B[38;5;129;01mnot\u001B[39;00m incremental\n\u001B[1;32m    440\u001B[0m )\n\u001B[0;32m--> 442\u001B[0m X, y \u001B[38;5;241m=\u001B[39m \u001B[38;5;28;43mself\u001B[39;49m\u001B[38;5;241;43m.\u001B[39;49m\u001B[43m_validate_input\u001B[49m\u001B[43m(\u001B[49m\u001B[43mX\u001B[49m\u001B[43m,\u001B[49m\u001B[43m \u001B[49m\u001B[43my\u001B[49m\u001B[43m,\u001B[49m\u001B[43m \u001B[49m\u001B[43mincremental\u001B[49m\u001B[43m,\u001B[49m\u001B[43m \u001B[49m\u001B[43mreset\u001B[49m\u001B[38;5;241;43m=\u001B[39;49m\u001B[43mfirst_pass\u001B[49m\u001B[43m)\u001B[49m\n\u001B[1;32m    444\u001B[0m n_samples, n_features \u001B[38;5;241m=\u001B[39m X\u001B[38;5;241m.\u001B[39mshape\n\u001B[1;32m    446\u001B[0m \u001B[38;5;66;03m# Ensure y is 2D\u001B[39;00m\n",
      "File \u001B[0;32m/usr/local/lib/python3.11/site-packages/sklearn/neural_network/_multilayer_perceptron.py:1127\u001B[0m, in \u001B[0;36mMLPClassifier._validate_input\u001B[0;34m(self, X, y, incremental, reset)\u001B[0m\n\u001B[1;32m   1125\u001B[0m     \u001B[38;5;28mself\u001B[39m\u001B[38;5;241m.\u001B[39mclasses_ \u001B[38;5;241m=\u001B[39m \u001B[38;5;28mself\u001B[39m\u001B[38;5;241m.\u001B[39m_label_binarizer\u001B[38;5;241m.\u001B[39mclasses_\n\u001B[1;32m   1126\u001B[0m \u001B[38;5;28;01melse\u001B[39;00m:\n\u001B[0;32m-> 1127\u001B[0m     classes \u001B[38;5;241m=\u001B[39m \u001B[43munique_labels\u001B[49m\u001B[43m(\u001B[49m\u001B[43my\u001B[49m\u001B[43m)\u001B[49m\n\u001B[1;32m   1128\u001B[0m     \u001B[38;5;28;01mif\u001B[39;00m \u001B[38;5;28mself\u001B[39m\u001B[38;5;241m.\u001B[39mwarm_start:\n\u001B[1;32m   1129\u001B[0m         \u001B[38;5;28;01mif\u001B[39;00m \u001B[38;5;28mset\u001B[39m(classes) \u001B[38;5;241m!=\u001B[39m \u001B[38;5;28mset\u001B[39m(\u001B[38;5;28mself\u001B[39m\u001B[38;5;241m.\u001B[39mclasses_):\n",
      "File \u001B[0;32m/usr/local/lib/python3.11/site-packages/sklearn/utils/multiclass.py:104\u001B[0m, in \u001B[0;36munique_labels\u001B[0;34m(*ys)\u001B[0m\n\u001B[1;32m    102\u001B[0m _unique_labels \u001B[38;5;241m=\u001B[39m _FN_UNIQUE_LABELS\u001B[38;5;241m.\u001B[39mget(label_type, \u001B[38;5;28;01mNone\u001B[39;00m)\n\u001B[1;32m    103\u001B[0m \u001B[38;5;28;01mif\u001B[39;00m \u001B[38;5;129;01mnot\u001B[39;00m _unique_labels:\n\u001B[0;32m--> 104\u001B[0m     \u001B[38;5;28;01mraise\u001B[39;00m \u001B[38;5;167;01mValueError\u001B[39;00m(\u001B[38;5;124m\"\u001B[39m\u001B[38;5;124mUnknown label type: \u001B[39m\u001B[38;5;132;01m%s\u001B[39;00m\u001B[38;5;124m\"\u001B[39m \u001B[38;5;241m%\u001B[39m \u001B[38;5;28mrepr\u001B[39m(ys))\n\u001B[1;32m    106\u001B[0m \u001B[38;5;28;01mif\u001B[39;00m is_array_api_compliant:\n\u001B[1;32m    107\u001B[0m     \u001B[38;5;66;03m# array_api does not allow for mixed dtypes\u001B[39;00m\n\u001B[1;32m    108\u001B[0m     unique_ys \u001B[38;5;241m=\u001B[39m xp\u001B[38;5;241m.\u001B[39mconcat([_unique_labels(y) \u001B[38;5;28;01mfor\u001B[39;00m y \u001B[38;5;129;01min\u001B[39;00m ys])\n",
      "\u001B[0;31mValueError\u001B[0m: Unknown label type: (array([[0.81901306, 0.87807312, 0.91603933, 0.7096735 , 0.72917284,\n        0.46048125, 0.20609994, 0.33649812, 0.58794001, 0.62654335,\n        0.97636543, 0.9534575 , 0.07250338, 0.62470721, 0.5623463 ]]),)"
     ]
    }
   ],
   "source": [
    "from sklearn.neural_network import MLPRegressor, MLPClassifier\n",
    "\n",
    "agent = MLPClassifier(hidden_layer_sizes=(200, 100),\n",
    "                     activation='relu',\n",
    "                     max_iter=10000,\n",
    "                     solver='sgd',\n",
    "                     alpha=0.0001,\n",
    "                     learning_rate='invscaling')\n",
    "\n",
    "\n",
    "env0=env.reset(seed=seed)[0]\n",
    "act0 = n_actions.sample()\n",
    "print(\"env0: \", env0.shape)\n",
    "print(\"aenv0: \", [env0])\n",
    "print(\"n_actions: \", n_actions)\n",
    "print(\"act0: \", act0)\n",
    "print(\"act0.shape: \", act0.shape)\n",
    "\n",
    "# initialize agent to the dimension of state space and number of actions\n",
    "agent.partial_fit([env0], [act0], classes=[0, 1])\n"
   ]
  },
  {
   "cell_type": "code",
   "execution_count": 15,
   "metadata": {
    "ExecuteTime": {
     "end_time": "2023-09-18T15:21:01.368003Z",
     "start_time": "2023-09-18T15:21:01.308792Z"
    }
   },
   "outputs": [
    {
     "ename": "FileNotFoundError",
     "evalue": "[Errno 2] No such file or directory: 'pyleague_mplcregressor.joblib'",
     "output_type": "error",
     "traceback": [
      "\u001B[0;31m---------------------------------------------------------------------------\u001B[0m",
      "\u001B[0;31mFileNotFoundError\u001B[0m                         Traceback (most recent call last)",
      "Cell \u001B[0;32mIn[15], line 6\u001B[0m\n\u001B[1;32m      3\u001B[0m filename \u001B[38;5;241m=\u001B[39m \u001B[38;5;124m\"\u001B[39m\u001B[38;5;124mpyleague_mplcregressor.joblib\u001B[39m\u001B[38;5;124m\"\u001B[39m\n\u001B[1;32m      5\u001B[0m \u001B[38;5;66;03m# load model\u001B[39;00m\n\u001B[0;32m----> 6\u001B[0m agent \u001B[38;5;241m=\u001B[39m \u001B[43mjoblib\u001B[49m\u001B[38;5;241;43m.\u001B[39;49m\u001B[43mload\u001B[49m\u001B[43m(\u001B[49m\u001B[43mfilename\u001B[49m\u001B[43m)\u001B[49m\n",
      "File \u001B[0;32m/usr/local/lib/python3.11/site-packages/joblib/numpy_pickle.py:650\u001B[0m, in \u001B[0;36mload\u001B[0;34m(filename, mmap_mode)\u001B[0m\n\u001B[1;32m    648\u001B[0m         obj \u001B[38;5;241m=\u001B[39m _unpickle(fobj)\n\u001B[1;32m    649\u001B[0m \u001B[38;5;28;01melse\u001B[39;00m:\n\u001B[0;32m--> 650\u001B[0m     \u001B[38;5;28;01mwith\u001B[39;00m \u001B[38;5;28;43mopen\u001B[39;49m\u001B[43m(\u001B[49m\u001B[43mfilename\u001B[49m\u001B[43m,\u001B[49m\u001B[43m \u001B[49m\u001B[38;5;124;43m'\u001B[39;49m\u001B[38;5;124;43mrb\u001B[39;49m\u001B[38;5;124;43m'\u001B[39;49m\u001B[43m)\u001B[49m \u001B[38;5;28;01mas\u001B[39;00m f:\n\u001B[1;32m    651\u001B[0m         \u001B[38;5;28;01mwith\u001B[39;00m _read_fileobject(f, filename, mmap_mode) \u001B[38;5;28;01mas\u001B[39;00m fobj:\n\u001B[1;32m    652\u001B[0m             \u001B[38;5;28;01mif\u001B[39;00m \u001B[38;5;28misinstance\u001B[39m(fobj, \u001B[38;5;28mstr\u001B[39m):\n\u001B[1;32m    653\u001B[0m                 \u001B[38;5;66;03m# if the returned file object is a string, this means we\u001B[39;00m\n\u001B[1;32m    654\u001B[0m                 \u001B[38;5;66;03m# try to load a pickle file generated with an version of\u001B[39;00m\n\u001B[1;32m    655\u001B[0m                 \u001B[38;5;66;03m# Joblib so we load it with joblib compatibility function.\u001B[39;00m\n",
      "\u001B[0;31mFileNotFoundError\u001B[0m: [Errno 2] No such file or directory: 'pyleague_mplcregressor.joblib'"
     ]
    }
   ],
   "source": [
    "import joblib\n",
    "\n",
    "filename = \"pyleague_mplcregressor.joblib\"\n",
    "\n",
    "# load model\n",
    "agent = joblib.load(filename)\n",
    "\n"
   ]
  },
  {
   "cell_type": "code",
   "execution_count": 16,
   "outputs": [],
   "source": [
    "def normalize_0_to_1(data):\n",
    "    min_value = np.min(data)\n",
    "    max_value = np.max(data)\n",
    "    normalized_data = (data - min_value) / (max_value - min_value)\n",
    "    return normalized_data\n"
   ],
   "metadata": {
    "collapsed": false,
    "ExecuteTime": {
     "end_time": "2023-09-18T15:21:04.595132Z",
     "start_time": "2023-09-18T15:21:04.576581Z"
    }
   }
  },
  {
   "cell_type": "code",
   "execution_count": 17,
   "metadata": {
    "id": "eyFS3oUmG9zL",
    "ExecuteTime": {
     "end_time": "2023-09-18T15:21:07.389879Z",
     "start_time": "2023-09-18T15:21:07.376409Z"
    }
   },
   "outputs": [],
   "source": [
    "def generate_session(env, agent, t_max=100):\n",
    "    \"\"\"\n",
    "    Play a single game using agent neural network.\n",
    "    Terminate when game finishes or after :t_max: steps\n",
    "    \"\"\"\n",
    "    states, actions = [], []\n",
    "    total_reward = 0\n",
    "    debug = False\n",
    "    \n",
    "    s, _ = env.reset(seed=seed)\n",
    "    if debug:\n",
    "        env.render()\n",
    "\n",
    "    for t in range(t_max):\n",
    "\n",
    "        # print(\"action_space \", env.action_space.n)\n",
    "        # print(\"state \",s)\n",
    "        # print(\"n_actions\", n_actions)\n",
    "\n",
    "        # use agent to predict a vector of action probabilities for state :s:\n",
    "        act_predict = agent.predict(s.reshape(1, -1)).reshape(n_actions.shape,)\n",
    "\n",
    "        # Update state based on action\n",
    "        # act = np.exp(act_predict)\n",
    "        # act = normalize_0_to_1(act_predict)\n",
    "        act = act_predict\n",
    "        \n",
    "\n",
    "        # print(\"act \",act)\n",
    "        # print(\"act.shape \",act.shape)\n",
    "        # print(\"n_actions.shape \",n_actions.shape)\n",
    "        assert act.shape == n_actions.shape, \"make sure probabilities are a vector (hint: np.reshape)\"\n",
    "\n",
    "        # use the probabilities you predicted to pick an action\n",
    "        # sample proportionally to the probabilities, don't just take the most likely action\n",
    "        # a = np.random.choice(range(n_actions), p=probs)\n",
    "        # ^-- hint: try np.random.choice\n",
    "\n",
    "        new_s, r, terminated, truncated, _ = env.step(act)\n",
    "\n",
    "        # record sessions like you did before\n",
    "        states.append(s)\n",
    "        actions.append(act)\n",
    "        total_reward += r\n",
    "\n",
    "        s = new_s\n",
    "        if terminated or truncated:\n",
    "            break\n",
    "            \n",
    "    if debug:\n",
    "        env.render()\n",
    "\n",
    "    return states, actions, total_reward\n"
   ]
  },
  {
   "cell_type": "code",
   "execution_count": 18,
   "metadata": {
    "id": "4xgrTCgJG9zL",
    "ExecuteTime": {
     "end_time": "2023-09-18T15:21:08.449542Z",
     "start_time": "2023-09-18T15:21:08.335196Z"
    }
   },
   "outputs": [
    {
     "name": "stdout",
     "output_type": "stream",
     "text": [
      "states: [[1.         0.         0.         ... 0.         0.5        1.        ]\n",
      " [1.         0.         0.         ... 0.         0.5        1.        ]\n",
      " [1.         0.         0.         ... 0.         0.52173913 1.        ]\n",
      " ...\n",
      " [1.         0.         0.         ... 0.         0.75949367 1.        ]\n",
      " [1.         0.         0.         ... 0.         0.84507042 1.        ]\n",
      " [1.         0.         0.         ... 0.         0.95238095 1.        ]]\n",
      "actions: [array([-0.25930846, -0.01340216,  0.82369361,  0.30893909, -0.10794059,\n",
      "       -0.13608738,  0.077753  ,  0.19112516,  0.26238273,  0.29597095,\n",
      "        0.28596425,  0.41325483,  0.1653012 , -0.79575312,  0.07029193]), array([-0.50598663, -0.18069667,  0.7350976 ,  0.28373717, -0.03496854,\n",
      "        0.05053743,  0.08999139,  0.12794326,  0.2100201 ,  0.28522994,\n",
      "        0.43981603,  0.23274027, -0.03244182, -0.98560542,  0.01376597]), array([-0.39494304, -0.18623685,  0.68097203,  0.32124288, -0.04589894,\n",
      "       -0.16311131,  0.00666493,  0.07686803,  0.14440113,  0.25231177,\n",
      "        0.43154751,  0.28731468, -0.12790056, -0.64254922,  0.2359478 ]), array([-0.41249221, -0.19593157,  0.68245488,  0.31755685, -0.02735155,\n",
      "       -0.13778617,  0.05165795,  0.18772549,  0.03654478,  0.32399161,\n",
      "        0.42245502,  0.29608915, -0.09321754, -0.80201801,  0.13333314]), array([-0.25471166, -0.27515028,  0.72377841,  0.27190445, -0.22664717,\n",
      "       -0.10351878,  0.13020894,  0.21397569,  0.22918681,  0.0574185 ,\n",
      "        0.41615013,  0.27778298,  0.00841801, -0.71561326,  0.0761372 ]), array([-0.39150258, -0.18193958,  0.89187551,  0.44417002, -0.27043709,\n",
      "       -0.18247411,  0.1549879 ,  0.1627401 ,  0.2749085 ,  0.23568223,\n",
      "        0.34648374,  0.32011871,  0.12703793, -0.86286629,  0.04682345]), array([-0.353578  , -0.09732632,  0.67131968,  0.29213321, -0.01444652,\n",
      "       -0.03540111, -0.02130533,  0.1720098 ,  0.11821367,  0.23640302,\n",
      "        0.44917171,  0.29839404,  0.01457688, -0.83675598,  0.07640922]), array([-0.36194516, -0.0704945 ,  0.67436699,  0.27719939, -0.02410903,\n",
      "       -0.02061861, -0.07165213,  0.18038083,  0.11814221,  0.2339317 ,\n",
      "        0.43766834,  0.29924927, -0.00225579, -0.85104834,  0.05717504]), array([-0.35615781, -0.05379528,  0.69074602,  0.28533962, -0.03338624,\n",
      "       -0.02458556, -0.08290418,  0.180991  ,  0.12453634,  0.23383818,\n",
      "        0.44351277,  0.30027012,  0.00235477, -0.85310218,  0.06922327]), array([-0.36014409, -0.02853742,  0.70563345,  0.26400429, -0.03190899,\n",
      "       -0.01983657, -0.08723303,  0.18395781,  0.12534877,  0.23668833,\n",
      "        0.45024406,  0.30314858,  0.01011323, -0.85256607,  0.07858769]), array([-0.37035956, -0.06424714,  0.71073577,  0.27248598, -0.02601111,\n",
      "       -0.0263705 , -0.09186769,  0.18520203,  0.1296544 ,  0.25611608,\n",
      "        0.45880153,  0.29287496,  0.01933883, -0.84571587,  0.05223778])]\n",
      "reward: -155\n"
     ]
    }
   ],
   "source": [
    "dummy_states, dummy_actions, dummy_reward = generate_session(env, agent, t_max=100000000)\n",
    "print(\"states:\", np.stack(dummy_states))\n",
    "print(\"actions:\", dummy_actions)\n",
    "print(\"reward:\", dummy_reward)\n"
   ]
  },
  {
   "cell_type": "markdown",
   "metadata": {
    "id": "p85lt16qG9zL"
   },
   "source": [
    "### CEM steps\n",
    "Deep CEM uses exactly the same strategy as the regular CEM, so you can copy your function code from previous notebook.\n",
    "\n",
    "The only difference is that now each observation is not a number but a `float32` vector."
   ]
  },
  {
   "cell_type": "code",
   "execution_count": 19,
   "metadata": {
    "id": "4On-p7p4G9zL",
    "ExecuteTime": {
     "end_time": "2023-09-18T15:21:12.279614Z",
     "start_time": "2023-09-18T15:21:12.106824Z"
    }
   },
   "outputs": [],
   "source": [
    "def select_elites(states_batch, actions_batch, rewards_batch, percentile=50):\n",
    "    \"\"\"\n",
    "    Select states and actions from games that have rewards >= percentile\n",
    "    :param states_batch: list of lists of states, states_batch[session_i][t]\n",
    "    :param actions_batch: list of lists of actions, actions_batch[session_i][t]\n",
    "    :param rewards_batch: list of rewards, rewards_batch[session_i]\n",
    "\n",
    "    :returns: elite_states,elite_actions, both 1D lists of states and respective actions from elite sessions\n",
    "\n",
    "    Please return elite states and actions in their original order\n",
    "    [i.e. sorted by session number and timestep within session]\n",
    "\n",
    "    If you are confused, see examples below. Please don't assume that states are integers\n",
    "    (they will become different later).\n",
    "    \"\"\"\n",
    "    debug = False\n",
    "    if debug:\n",
    "        print(\"states_batch \",states_batch)\n",
    "        print(\"actions_batch \",actions_batch)\n",
    "        print(\"rewards_batch \",rewards_batch)\n",
    "        print(\"percentile \",percentile)\n",
    "    \n",
    "    reward_threshold = np.percentile(rewards_batch, percentile)\n",
    "    if debug:\n",
    "        print(\"reward_threshold \", reward_threshold)\n",
    "\n",
    "    reward_select = np.zeros_like(rewards_batch)\n",
    "    reward_select[rewards_batch >= reward_threshold] = 1\n",
    "    if debug:\n",
    "        print(\"reward_select \", reward_select)\n",
    "\n",
    "    elite_states = []\n",
    "    elite_actions = []\n",
    "\n",
    "    for index, item in enumerate(reward_select):\n",
    "        if item:\n",
    "            elite_states.extend(states_batch[index])\n",
    "            elite_actions.extend(actions_batch[index])\n",
    "\n",
    "    if debug:\n",
    "        print(\"elite_states \", elite_states)\n",
    "        print(\"elite_actions \", elite_actions)\n",
    "\n",
    "    return elite_states, elite_actions\n"
   ]
  },
  {
   "cell_type": "code",
   "execution_count": 20,
   "metadata": {
    "ExecuteTime": {
     "end_time": "2023-09-18T15:21:13.828686Z",
     "start_time": "2023-09-18T15:21:13.747846Z"
    }
   },
   "outputs": [
    {
     "name": "stdout",
     "output_type": "stream",
     "text": [
      "Ok!\n"
     ]
    }
   ],
   "source": [
    "states_batch = [\n",
    "    [[-0.1, -0.1,  0.1,  0.1],\n",
    "    [-0.2, -0.2,  0.2,  0.2],\n",
    "    [-0.3,  -0.3,  0.3,  0.3 ],\n",
    "    [-0.4, -0.4,   0.4,  0.4  ],\n",
    "    [-0.5, -0.5,  0.5,  0.5 ]] ,  # game1\n",
    "    \n",
    "    [[-1.1, -0.1,  0.1,  0.1],\n",
    "    [-1.2, -0.2,  0.2,  0.2],\n",
    "    [-1.3,  -0.3,  0.3,  0.3 ],\n",
    "    [-1.4, -0.4,   0.4,  0.4  ],\n",
    "    [-1.5, -0.5,  0.5,  0.5 ]] ,  # game2\n",
    "        \n",
    "    [[-2.1, -0.1,  0.1,  0.1],\n",
    "    [-2.2, -0.2,  0.2,  0.2],\n",
    "    [-2.3,  -0.3,  0.3,  0.3 ]],   # game3\n",
    "]\n",
    "\n",
    "actions_batch = [\n",
    "    [0, 0, 0, 0, 1],     # game1\n",
    "    [0, 1, 0, 1, 1],  # game2\n",
    "    [0, 0, 0],        # game3\n",
    "]\n",
    "rewards_batch = [\n",
    "    5.0,  # game1\n",
    "    5.0,  # game2\n",
    "    3.0,  # game3\n",
    "]\n",
    "\n",
    "test_result_0 = select_elites(states_batch, actions_batch, rewards_batch, percentile=0)\n",
    "test_result_30 = select_elites(\n",
    "    states_batch, actions_batch, rewards_batch, percentile=30\n",
    ")\n",
    "test_result_100 = select_elites(\n",
    "    states_batch, actions_batch, rewards_batch, percentile=100\n",
    ")\n",
    "\n",
    "assert np.all(\n",
    "    test_result_0[0] == [\n",
    "    [-0.1, -0.1,  0.1,  0.1],\n",
    "    [-0.2, -0.2,  0.2,  0.2],\n",
    "    [-0.3,  -0.3,  0.3,  0.3 ],\n",
    "    [-0.4, -0.4,   0.4,  0.4  ],\n",
    "    [-0.5, -0.5,  0.5,  0.5 ]\n",
    "    ,\n",
    "    [-1.1, -0.1,  0.1,  0.1],\n",
    "    [-1.2, -0.2,  0.2,  0.2],\n",
    "    [-1.3,  -0.3,  0.3,  0.3 ],\n",
    "    [-1.4, -0.4,   0.4,  0.4  ],\n",
    "    [-1.5, -0.5,  0.5,  0.5 ]\n",
    "    ,\n",
    "    [-2.1, -0.1,  0.1,  0.1],\n",
    "    [-2.2, -0.2,  0.2,  0.2],\n",
    "    [-2.3,  -0.3,  0.3,  0.3 ]\n",
    "    ]\n",
    "    and test_result_0[1] == [\n",
    "        0, 0, 0, 0, 1,     # game1\n",
    "        0, 1, 0, 1, 1,  # game2\n",
    "        0, 0, 0   # game2\n",
    "    ]\n",
    "), \"For percentile 0 you should return all states and actions in chronological order\"\n",
    "\n",
    "\n",
    "assert np.all(\n",
    "    test_result_30[0] == [\n",
    "    [-0.1, -0.1,  0.1,  0.1],\n",
    "    [-0.2, -0.2,  0.2,  0.2],\n",
    "    [-0.3,  -0.3,  0.3,  0.3 ],\n",
    "    [-0.4, -0.4,   0.4,  0.4  ],\n",
    "    [-0.5, -0.5,  0.5,  0.5 ]\n",
    "    ,\n",
    "    [-1.1, -0.1,  0.1,  0.1],\n",
    "    [-1.2, -0.2,  0.2,  0.2],\n",
    "    [-1.3,  -0.3,  0.3,  0.3 ],\n",
    "    [-1.4, -0.4,   0.4,  0.4  ],\n",
    "    [-1.5, -0.5,  0.5,  0.5 ]\n",
    "    ]\n",
    "    and test_result_30[1] == [\n",
    "        0, 0, 0, 0, 1,     # game1\n",
    "        0, 1, 0, 1, 1  # game2\n",
    "    ]\n",
    "), \"For percentile 30 you should only select states/actions from two first\"\n",
    "\n",
    "assert np.all(\n",
    "    test_result_100[0] == [\n",
    "    [-0.1, -0.1,  0.1,  0.1],\n",
    "    [-0.2, -0.2,  0.2,  0.2],\n",
    "    [-0.3,  -0.3,  0.3,  0.3 ],\n",
    "    [-0.4, -0.4,   0.4,  0.4  ],\n",
    "    [-0.5, -0.5,  0.5,  0.5 ]\n",
    "    ,\n",
    "    [-1.1, -0.1,  0.1,  0.1],\n",
    "    [-1.2, -0.2,  0.2,  0.2],\n",
    "    [-1.3,  -0.3,  0.3,  0.3 ],\n",
    "    [-1.4, -0.4,   0.4,  0.4  ],\n",
    "    [-1.5, -0.5,  0.5,  0.5 ]\n",
    "    ]\n",
    "    and test_result_100[1] == [\n",
    "        0, 0, 0, 0, 1,     # game1\n",
    "        0, 1, 0, 1, 1  # game2\n",
    "    ]\n",
    "), \"Please make sure you use >=, not >. Also double-check how you compute percentile.\"\n",
    "\n",
    "print(\"Ok!\")\n"
   ]
  },
  {
   "cell_type": "markdown",
   "metadata": {
    "id": "xc40V4DaG9zM"
   },
   "source": [
    "# Training loop\n",
    "Generate sessions, select N best and fit to those."
   ]
  },
  {
   "cell_type": "code",
   "execution_count": 21,
   "metadata": {
    "id": "PPwVKwF7G9zM",
    "ExecuteTime": {
     "end_time": "2023-09-18T15:21:16.388714Z",
     "start_time": "2023-09-18T15:21:16.246741Z"
    }
   },
   "outputs": [],
   "source": [
    "from IPython.display import clear_output\n",
    "from datetime import datetime\n",
    "\n",
    "\n",
    "def show_progress(rewards_batch, log, percentile, reward_range=[-990, +10]):\n",
    "    \"\"\"\n",
    "    A convenience function that displays training progress.\n",
    "    No cool math here, just charts.\n",
    "    \"\"\"\n",
    "\n",
    "    mean_reward = np.mean(rewards_batch)\n",
    "    threshold = np.percentile(rewards_batch, percentile)\n",
    "    log.append([mean_reward, threshold])\n",
    "\n",
    "    clear_output(True)\n",
    "    print(\"mean reward = %.3f, threshold=%.3f\" % (mean_reward, threshold))\n",
    "    print(\"date %s\" % (datetime.now()))\n",
    "    plt.figure(figsize=[8, 4])\n",
    "    plt.subplot(1, 2, 1)\n",
    "    plt.plot(list(zip(*log))[0], label=\"Mean rewards\")\n",
    "    plt.plot(list(zip(*log))[1], label=\"Reward thresholds\")\n",
    "    plt.legend()\n",
    "    plt.grid()\n",
    "\n",
    "    plt.subplot(1, 2, 2)\n",
    "    plt.hist(rewards_batch, range=reward_range)\n",
    "    plt.vlines(\n",
    "        [np.percentile(rewards_batch, percentile)],\n",
    "        [0],\n",
    "        [100],\n",
    "        label=\"percentile\",\n",
    "        color=\"red\",\n",
    "    )\n",
    "    plt.legend()\n",
    "    plt.grid()\n",
    "\n",
    "    plt.show()\n"
   ]
  },
  {
   "cell_type": "markdown",
   "metadata": {
    "id": "yeNWKjtsG9zM"
   },
   "source": [
    "# Results"
   ]
  },
  {
   "cell_type": "code",
   "execution_count": 29,
   "metadata": {},
   "outputs": [
    {
     "name": "stdout",
     "output_type": "stream",
     "text": [
      "mean reward = -92.000, threshold=-92.000\n",
      "date 2023-09-18 17:38:21.622749\n"
     ]
    },
    {
     "data": {
      "text/plain": "<Figure size 800x400 with 2 Axes>",
      "image/png": "[encoded data removed]"
     },
     "metadata": {},
     "output_type": "display_data"
    },
    {
     "ename": "KeyboardInterrupt",
     "evalue": "",
     "output_type": "error",
     "traceback": [
      "\u001B[0;31m---------------------------------------------------------------------------\u001B[0m",
      "\u001B[0;31mKeyboardInterrupt\u001B[0m                         Traceback (most recent call last)",
      "Cell \u001B[0;32mIn[29], line 8\u001B[0m\n\u001B[1;32m      4\u001B[0m log \u001B[38;5;241m=\u001B[39m []\n\u001B[1;32m      6\u001B[0m \u001B[38;5;28;01mfor\u001B[39;00m i \u001B[38;5;129;01min\u001B[39;00m \u001B[38;5;28mrange\u001B[39m(\u001B[38;5;241m100\u001B[39m):\n\u001B[1;32m      7\u001B[0m     \u001B[38;5;66;03m# generate new sessions\u001B[39;00m\n\u001B[0;32m----> 8\u001B[0m     sessions \u001B[38;5;241m=\u001B[39m \u001B[43m[\u001B[49m\u001B[43m \u001B[49m\u001B[43mgenerate_session\u001B[49m\u001B[43m(\u001B[49m\u001B[43menv\u001B[49m\u001B[43m,\u001B[49m\u001B[43m \u001B[49m\u001B[43magent\u001B[49m\u001B[43m,\u001B[49m\u001B[43m \u001B[49m\u001B[43mt_max\u001B[49m\u001B[38;5;241;43m=\u001B[39;49m\u001B[38;5;241;43m10000\u001B[39;49m\u001B[43m)\u001B[49m\u001B[43m \u001B[49m\u001B[38;5;28;43;01mfor\u001B[39;49;00m\u001B[43m \u001B[49m\u001B[43m_\u001B[49m\u001B[43m \u001B[49m\u001B[38;5;129;43;01min\u001B[39;49;00m\u001B[43m \u001B[49m\u001B[38;5;28;43mrange\u001B[39;49m\u001B[43m(\u001B[49m\u001B[43mn_sessions\u001B[49m\u001B[43m)\u001B[49m\u001B[43m \u001B[49m\u001B[43m]\u001B[49m\n\u001B[1;32m     10\u001B[0m     \u001B[38;5;28;01mif\u001B[39;00m \u001B[38;5;28;01mFalse\u001B[39;00m:\n\u001B[1;32m     11\u001B[0m         pprint(sessions)\n",
      "Cell \u001B[0;32mIn[29], line 8\u001B[0m, in \u001B[0;36m<listcomp>\u001B[0;34m(.0)\u001B[0m\n\u001B[1;32m      4\u001B[0m log \u001B[38;5;241m=\u001B[39m []\n\u001B[1;32m      6\u001B[0m \u001B[38;5;28;01mfor\u001B[39;00m i \u001B[38;5;129;01min\u001B[39;00m \u001B[38;5;28mrange\u001B[39m(\u001B[38;5;241m100\u001B[39m):\n\u001B[1;32m      7\u001B[0m     \u001B[38;5;66;03m# generate new sessions\u001B[39;00m\n\u001B[0;32m----> 8\u001B[0m     sessions \u001B[38;5;241m=\u001B[39m [ \u001B[43mgenerate_session\u001B[49m\u001B[43m(\u001B[49m\u001B[43menv\u001B[49m\u001B[43m,\u001B[49m\u001B[43m \u001B[49m\u001B[43magent\u001B[49m\u001B[43m,\u001B[49m\u001B[43m \u001B[49m\u001B[43mt_max\u001B[49m\u001B[38;5;241;43m=\u001B[39;49m\u001B[38;5;241;43m10000\u001B[39;49m\u001B[43m)\u001B[49m \u001B[38;5;28;01mfor\u001B[39;00m _ \u001B[38;5;129;01min\u001B[39;00m \u001B[38;5;28mrange\u001B[39m(n_sessions) ]\n\u001B[1;32m     10\u001B[0m     \u001B[38;5;28;01mif\u001B[39;00m \u001B[38;5;28;01mFalse\u001B[39;00m:\n\u001B[1;32m     11\u001B[0m         pprint(sessions)\n",
      "Cell \u001B[0;32mIn[17], line 39\u001B[0m, in \u001B[0;36mgenerate_session\u001B[0;34m(env, agent, t_max)\u001B[0m\n\u001B[1;32m     32\u001B[0m \u001B[38;5;28;01massert\u001B[39;00m act\u001B[38;5;241m.\u001B[39mshape \u001B[38;5;241m==\u001B[39m n_actions\u001B[38;5;241m.\u001B[39mshape, \u001B[38;5;124m\"\u001B[39m\u001B[38;5;124mmake sure probabilities are a vector (hint: np.reshape)\u001B[39m\u001B[38;5;124m\"\u001B[39m\n\u001B[1;32m     34\u001B[0m \u001B[38;5;66;03m# use the probabilities you predicted to pick an action\u001B[39;00m\n\u001B[1;32m     35\u001B[0m \u001B[38;5;66;03m# sample proportionally to the probabilities, don't just take the most likely action\u001B[39;00m\n\u001B[1;32m     36\u001B[0m \u001B[38;5;66;03m# a = np.random.choice(range(n_actions), p=probs)\u001B[39;00m\n\u001B[1;32m     37\u001B[0m \u001B[38;5;66;03m# ^-- hint: try np.random.choice\u001B[39;00m\n\u001B[0;32m---> 39\u001B[0m new_s, r, terminated, truncated, _ \u001B[38;5;241m=\u001B[39m \u001B[43menv\u001B[49m\u001B[38;5;241;43m.\u001B[39;49m\u001B[43mstep\u001B[49m\u001B[43m(\u001B[49m\u001B[43mact\u001B[49m\u001B[43m)\u001B[49m\n\u001B[1;32m     41\u001B[0m \u001B[38;5;66;03m# record sessions like you did before\u001B[39;00m\n\u001B[1;32m     42\u001B[0m states\u001B[38;5;241m.\u001B[39mappend(s)\n",
      "File \u001B[0;32m/usr/local/lib/python3.11/site-packages/gymnasium/core.py:522\u001B[0m, in \u001B[0;36mObservationWrapper.step\u001B[0;34m(self, action)\u001B[0m\n\u001B[1;32m    518\u001B[0m \u001B[38;5;28;01mdef\u001B[39;00m \u001B[38;5;21mstep\u001B[39m(\n\u001B[1;32m    519\u001B[0m     \u001B[38;5;28mself\u001B[39m, action: ActType\n\u001B[1;32m    520\u001B[0m ) \u001B[38;5;241m-\u001B[39m\u001B[38;5;241m>\u001B[39m \u001B[38;5;28mtuple\u001B[39m[WrapperObsType, SupportsFloat, \u001B[38;5;28mbool\u001B[39m, \u001B[38;5;28mbool\u001B[39m, \u001B[38;5;28mdict\u001B[39m[\u001B[38;5;28mstr\u001B[39m, Any]]:\n\u001B[1;32m    521\u001B[0m \u001B[38;5;250m    \u001B[39m\u001B[38;5;124;03m\"\"\"Modifies the :attr:`env` after calling :meth:`step` using :meth:`self.observation` on the returned observations.\"\"\"\u001B[39;00m\n\u001B[0;32m--> 522\u001B[0m     observation, reward, terminated, truncated, info \u001B[38;5;241m=\u001B[39m \u001B[38;5;28;43mself\u001B[39;49m\u001B[38;5;241;43m.\u001B[39;49m\u001B[43menv\u001B[49m\u001B[38;5;241;43m.\u001B[39;49m\u001B[43mstep\u001B[49m\u001B[43m(\u001B[49m\u001B[43maction\u001B[49m\u001B[43m)\u001B[49m\n\u001B[1;32m    523\u001B[0m     \u001B[38;5;28;01mreturn\u001B[39;00m \u001B[38;5;28mself\u001B[39m\u001B[38;5;241m.\u001B[39mobservation(observation), reward, terminated, truncated, info\n",
      "File \u001B[0;32m/usr/local/lib/python3.11/site-packages/gymnasium/core.py:522\u001B[0m, in \u001B[0;36mObservationWrapper.step\u001B[0;34m(self, action)\u001B[0m\n\u001B[1;32m    518\u001B[0m \u001B[38;5;28;01mdef\u001B[39;00m \u001B[38;5;21mstep\u001B[39m(\n\u001B[1;32m    519\u001B[0m     \u001B[38;5;28mself\u001B[39m, action: ActType\n\u001B[1;32m    520\u001B[0m ) \u001B[38;5;241m-\u001B[39m\u001B[38;5;241m>\u001B[39m \u001B[38;5;28mtuple\u001B[39m[WrapperObsType, SupportsFloat, \u001B[38;5;28mbool\u001B[39m, \u001B[38;5;28mbool\u001B[39m, \u001B[38;5;28mdict\u001B[39m[\u001B[38;5;28mstr\u001B[39m, Any]]:\n\u001B[1;32m    521\u001B[0m \u001B[38;5;250m    \u001B[39m\u001B[38;5;124;03m\"\"\"Modifies the :attr:`env` after calling :meth:`step` using :meth:`self.observation` on the returned observations.\"\"\"\u001B[39;00m\n\u001B[0;32m--> 522\u001B[0m     observation, reward, terminated, truncated, info \u001B[38;5;241m=\u001B[39m \u001B[38;5;28;43mself\u001B[39;49m\u001B[38;5;241;43m.\u001B[39;49m\u001B[43menv\u001B[49m\u001B[38;5;241;43m.\u001B[39;49m\u001B[43mstep\u001B[49m\u001B[43m(\u001B[49m\u001B[43maction\u001B[49m\u001B[43m)\u001B[49m\n\u001B[1;32m    523\u001B[0m     \u001B[38;5;28;01mreturn\u001B[39;00m \u001B[38;5;28mself\u001B[39m\u001B[38;5;241m.\u001B[39mobservation(observation), reward, terminated, truncated, info\n",
      "    \u001B[0;31m[... skipping similar frames: ObservationWrapper.step at line 522 (1 times)]\u001B[0m\n",
      "File \u001B[0;32m/usr/local/lib/python3.11/site-packages/gymnasium/core.py:522\u001B[0m, in \u001B[0;36mObservationWrapper.step\u001B[0;34m(self, action)\u001B[0m\n\u001B[1;32m    518\u001B[0m \u001B[38;5;28;01mdef\u001B[39;00m \u001B[38;5;21mstep\u001B[39m(\n\u001B[1;32m    519\u001B[0m     \u001B[38;5;28mself\u001B[39m, action: ActType\n\u001B[1;32m    520\u001B[0m ) \u001B[38;5;241m-\u001B[39m\u001B[38;5;241m>\u001B[39m \u001B[38;5;28mtuple\u001B[39m[WrapperObsType, SupportsFloat, \u001B[38;5;28mbool\u001B[39m, \u001B[38;5;28mbool\u001B[39m, \u001B[38;5;28mdict\u001B[39m[\u001B[38;5;28mstr\u001B[39m, Any]]:\n\u001B[1;32m    521\u001B[0m \u001B[38;5;250m    \u001B[39m\u001B[38;5;124;03m\"\"\"Modifies the :attr:`env` after calling :meth:`step` using :meth:`self.observation` on the returned observations.\"\"\"\u001B[39;00m\n\u001B[0;32m--> 522\u001B[0m     observation, reward, terminated, truncated, info \u001B[38;5;241m=\u001B[39m \u001B[38;5;28;43mself\u001B[39;49m\u001B[38;5;241;43m.\u001B[39;49m\u001B[43menv\u001B[49m\u001B[38;5;241;43m.\u001B[39;49m\u001B[43mstep\u001B[49m\u001B[43m(\u001B[49m\u001B[43maction\u001B[49m\u001B[43m)\u001B[49m\n\u001B[1;32m    523\u001B[0m     \u001B[38;5;28;01mreturn\u001B[39;00m \u001B[38;5;28mself\u001B[39m\u001B[38;5;241m.\u001B[39mobservation(observation), reward, terminated, truncated, info\n",
      "File \u001B[0;32m/usr/local/lib/python3.11/site-packages/gymnasium/wrappers/time_limit.py:57\u001B[0m, in \u001B[0;36mTimeLimit.step\u001B[0;34m(self, action)\u001B[0m\n\u001B[1;32m     46\u001B[0m \u001B[38;5;28;01mdef\u001B[39;00m \u001B[38;5;21mstep\u001B[39m(\u001B[38;5;28mself\u001B[39m, action):\n\u001B[1;32m     47\u001B[0m \u001B[38;5;250m    \u001B[39m\u001B[38;5;124;03m\"\"\"Steps through the environment and if the number of steps elapsed exceeds ``max_episode_steps`` then truncate.\u001B[39;00m\n\u001B[1;32m     48\u001B[0m \n\u001B[1;32m     49\u001B[0m \u001B[38;5;124;03m    Args:\u001B[39;00m\n\u001B[0;32m   (...)\u001B[0m\n\u001B[1;32m     55\u001B[0m \n\u001B[1;32m     56\u001B[0m \u001B[38;5;124;03m    \"\"\"\u001B[39;00m\n\u001B[0;32m---> 57\u001B[0m     observation, reward, terminated, truncated, info \u001B[38;5;241m=\u001B[39m \u001B[38;5;28;43mself\u001B[39;49m\u001B[38;5;241;43m.\u001B[39;49m\u001B[43menv\u001B[49m\u001B[38;5;241;43m.\u001B[39;49m\u001B[43mstep\u001B[49m\u001B[43m(\u001B[49m\u001B[43maction\u001B[49m\u001B[43m)\u001B[49m\n\u001B[1;32m     58\u001B[0m     \u001B[38;5;28mself\u001B[39m\u001B[38;5;241m.\u001B[39m_elapsed_steps \u001B[38;5;241m+\u001B[39m\u001B[38;5;241m=\u001B[39m \u001B[38;5;241m1\u001B[39m\n\u001B[1;32m     60\u001B[0m     \u001B[38;5;28;01mif\u001B[39;00m \u001B[38;5;28mself\u001B[39m\u001B[38;5;241m.\u001B[39m_elapsed_steps \u001B[38;5;241m>\u001B[39m\u001B[38;5;241m=\u001B[39m \u001B[38;5;28mself\u001B[39m\u001B[38;5;241m.\u001B[39m_max_episode_steps:\n",
      "File \u001B[0;32m/usr/local/lib/python3.11/site-packages/gymnasium/wrappers/order_enforcing.py:56\u001B[0m, in \u001B[0;36mOrderEnforcing.step\u001B[0;34m(self, action)\u001B[0m\n\u001B[1;32m     54\u001B[0m \u001B[38;5;28;01mif\u001B[39;00m \u001B[38;5;129;01mnot\u001B[39;00m \u001B[38;5;28mself\u001B[39m\u001B[38;5;241m.\u001B[39m_has_reset:\n\u001B[1;32m     55\u001B[0m     \u001B[38;5;28;01mraise\u001B[39;00m ResetNeeded(\u001B[38;5;124m\"\u001B[39m\u001B[38;5;124mCannot call env.step() before calling env.reset()\u001B[39m\u001B[38;5;124m\"\u001B[39m)\n\u001B[0;32m---> 56\u001B[0m \u001B[38;5;28;01mreturn\u001B[39;00m \u001B[38;5;28;43mself\u001B[39;49m\u001B[38;5;241;43m.\u001B[39;49m\u001B[43menv\u001B[49m\u001B[38;5;241;43m.\u001B[39;49m\u001B[43mstep\u001B[49m\u001B[43m(\u001B[49m\u001B[43maction\u001B[49m\u001B[43m)\u001B[49m\n",
      "File \u001B[0;32m/usr/local/lib/python3.11/site-packages/gymnasium/wrappers/env_checker.py:51\u001B[0m, in \u001B[0;36mPassiveEnvChecker.step\u001B[0;34m(self, action)\u001B[0m\n\u001B[1;32m     49\u001B[0m     \u001B[38;5;28;01mreturn\u001B[39;00m env_step_passive_checker(\u001B[38;5;28mself\u001B[39m\u001B[38;5;241m.\u001B[39menv, action)\n\u001B[1;32m     50\u001B[0m \u001B[38;5;28;01melse\u001B[39;00m:\n\u001B[0;32m---> 51\u001B[0m     \u001B[38;5;28;01mreturn\u001B[39;00m \u001B[38;5;28;43mself\u001B[39;49m\u001B[38;5;241;43m.\u001B[39;49m\u001B[43menv\u001B[49m\u001B[38;5;241;43m.\u001B[39;49m\u001B[43mstep\u001B[49m\u001B[43m(\u001B[49m\u001B[43maction\u001B[49m\u001B[43m)\u001B[49m\n",
      "File \u001B[0;32m~/Projects/gym-springchallenge2023/springchallenge2023/envs/py_league.py:73\u001B[0m, in \u001B[0;36mstep\u001B[0;34m(self, action)\u001B[0m\n\u001B[1;32m     71\u001B[0m nactions \u001B[38;5;241m=\u001B[39m [\u001B[38;5;28mint\u001B[39m(value\u001B[38;5;241m*\u001B[39m\u001B[38;5;241m10\u001B[39m) \u001B[38;5;28;01mfor\u001B[39;00m value \u001B[38;5;129;01min\u001B[39;00m action]\n\u001B[1;32m     72\u001B[0m cmd0 \u001B[38;5;241m=\u001B[39m \u001B[38;5;124m'\u001B[39m\u001B[38;5;124m;\u001B[39m\u001B[38;5;124m'\u001B[39m\u001B[38;5;241m.\u001B[39mjoin([\u001B[38;5;124mf\u001B[39m\u001B[38;5;124m'\u001B[39m\u001B[38;5;124mBEACON \u001B[39m\u001B[38;5;132;01m{\u001B[39;00mi\u001B[38;5;132;01m}\u001B[39;00m\u001B[38;5;124m \u001B[39m\u001B[38;5;132;01m{\u001B[39;00mvalue\u001B[38;5;132;01m}\u001B[39;00m\u001B[38;5;124m'\u001B[39m \u001B[38;5;28;01mfor\u001B[39;00m i, value \u001B[38;5;129;01min\u001B[39;00m \u001B[38;5;28menumerate\u001B[39m(nactions) \u001B[38;5;28;01mif\u001B[39;00m value \u001B[38;5;241m>\u001B[39m \u001B[38;5;241m0\u001B[39m])\n\u001B[0;32m---> 73\u001B[0m cmd1 \u001B[38;5;241m=\u001B[39m \u001B[38;5;124m'\u001B[39m\u001B[38;5;124m;\u001B[39m\u001B[38;5;124m'\u001B[39m\u001B[38;5;241m.\u001B[39mjoin([\u001B[38;5;124mf\u001B[39m\u001B[38;5;124m'\u001B[39m\u001B[38;5;124mBEACON \u001B[39m\u001B[38;5;132;01m{\u001B[39;00mi\u001B[38;5;132;01m}\u001B[39;00m\u001B[38;5;124m 1\u001B[39m\u001B[38;5;124m'\u001B[39m \u001B[38;5;28;01mfor\u001B[39;00m i \u001B[38;5;129;01min\u001B[39;00m \u001B[38;5;28mrange\u001B[39m(\u001B[38;5;241m15\u001B[39m)])\n\u001B[1;32m     75\u001B[0m \u001B[38;5;28mself\u001B[39m\u001B[38;5;241m.\u001B[39mgame\u001B[38;5;241m.\u001B[39mhandle_player_commands(player0, cmd0)\n\u001B[1;32m     76\u001B[0m \u001B[38;5;28mself\u001B[39m\u001B[38;5;241m.\u001B[39mgame\u001B[38;5;241m.\u001B[39mhandle_player_commands(player1, cmd1)\n",
      "File \u001B[0;32m~/Projects/gym-springchallenge2023/springchallenge2023/pyleague/game/Game.py:68\u001B[0m, in \u001B[0;36mGame.handle_player_commands\u001B[0;34m(self, player, command)\u001B[0m\n\u001B[1;32m     67\u001B[0m \u001B[38;5;28;01mdef\u001B[39;00m \u001B[38;5;21mhandle_player_commands\u001B[39m(\u001B[38;5;28mself\u001B[39m, player: Player, command: \u001B[38;5;28mstr\u001B[39m):\n\u001B[0;32m---> 68\u001B[0m     \u001B[38;5;28;43mself\u001B[39;49m\u001B[38;5;241;43m.\u001B[39;49m\u001B[43mcommand_manager\u001B[49m\u001B[38;5;241;43m.\u001B[39;49m\u001B[43mparse_commands\u001B[49m\u001B[43m(\u001B[49m\u001B[43mplayer\u001B[49m\u001B[43m,\u001B[49m\u001B[43m \u001B[49m\u001B[43mcommand\u001B[49m\u001B[43m)\u001B[49m\n",
      "File \u001B[0;32m~/Projects/gym-springchallenge2023/springchallenge2023/pyleague/game/CommandManager.py:21\u001B[0m, in \u001B[0;36mCommandManager.parse_commands\u001B[0;34m(self, player, line)\u001B[0m\n\u001B[1;32m     19\u001B[0m \u001B[38;5;28;01mfor\u001B[39;00m action_type \u001B[38;5;129;01min\u001B[39;00m ActionType:\n\u001B[1;32m     20\u001B[0m     pattern \u001B[38;5;241m=\u001B[39m action_type\u001B[38;5;241m.\u001B[39mget_pattern()\n\u001B[0;32m---> 21\u001B[0m     match \u001B[38;5;241m=\u001B[39m \u001B[43mre\u001B[49m\u001B[38;5;241;43m.\u001B[39;49m\u001B[43mmatch\u001B[49m\u001B[43m(\u001B[49m\u001B[43mpattern\u001B[49m\u001B[43m,\u001B[49m\u001B[43m \u001B[49m\u001B[43mcommand\u001B[49m\u001B[43m)\u001B[49m\n\u001B[1;32m     22\u001B[0m     \u001B[38;5;28;01mif\u001B[39;00m match:\n\u001B[1;32m     23\u001B[0m         \u001B[38;5;28;01mif\u001B[39;00m action_type \u001B[38;5;241m==\u001B[39m ActionType\u001B[38;5;241m.\u001B[39mBEACON:\n",
      "File \u001B[0;32m/usr/local/Cellar/python@3.11/3.11.5/Frameworks/Python.framework/Versions/3.11/lib/python3.11/re/__init__.py:166\u001B[0m, in \u001B[0;36mmatch\u001B[0;34m(pattern, string, flags)\u001B[0m\n\u001B[1;32m    163\u001B[0m \u001B[38;5;28;01mdef\u001B[39;00m \u001B[38;5;21mmatch\u001B[39m(pattern, string, flags\u001B[38;5;241m=\u001B[39m\u001B[38;5;241m0\u001B[39m):\n\u001B[1;32m    164\u001B[0m \u001B[38;5;250m    \u001B[39m\u001B[38;5;124;03m\"\"\"Try to apply the pattern at the start of the string, returning\u001B[39;00m\n\u001B[1;32m    165\u001B[0m \u001B[38;5;124;03m    a Match object, or None if no match was found.\"\"\"\u001B[39;00m\n\u001B[0;32m--> 166\u001B[0m     \u001B[38;5;28;01mreturn\u001B[39;00m \u001B[43m_compile\u001B[49m\u001B[43m(\u001B[49m\u001B[43mpattern\u001B[49m\u001B[43m,\u001B[49m\u001B[43m \u001B[49m\u001B[43mflags\u001B[49m\u001B[43m)\u001B[49m\u001B[38;5;241;43m.\u001B[39;49m\u001B[43mmatch\u001B[49m\u001B[43m(\u001B[49m\u001B[43mstring\u001B[49m\u001B[43m)\u001B[49m\n",
      "\u001B[0;31mKeyboardInterrupt\u001B[0m: "
     ]
    }
   ],
   "source": [
    "from pprint import pprint\n",
    "n_sessions = 100\n",
    "percentile = 60\n",
    "log = []\n",
    "\n",
    "for i in range(100):\n",
    "    # generate new sessions\n",
    "    sessions = [ generate_session(env, agent, t_max=10000) for _ in range(n_sessions) ]\n",
    "\n",
    "    if False:\n",
    "        pprint(sessions)\n",
    "\n",
    "    states_batch, actions_batch, rewards_batch = map(list, zip(*sessions))\n",
    "    if False:\n",
    "        print(states_batch.shape)\n",
    "        print(actions_batch.shape)\n",
    "        print(rewards_batch.shape)\n",
    "\n",
    "    elite_states, elite_actions = select_elites(states_batch, actions_batch, rewards_batch, percentile)\n",
    "\n",
    "    if False:\n",
    "        print(elite_states)\n",
    "        print(elite_actions)\n",
    "    \n",
    "    #for a in elite_actions:\n",
    "    #     a[2] = 0\n",
    "    #     a[8] = 0\n",
    "    #     a[0] = 0.4\n",
    "    #     a[1] = 0.4\n",
    "    #     a[5] = 0.4\n",
    "    #     a[4] = 0.4\n",
    "\n",
    "    # <YOUR CODE: partial_fit agent to predict elite_actions(y) from elite_states(X)>\n",
    "    agent.partial_fit(elite_states, elite_actions)\n",
    "    # save model\n",
    "    joblib.dump(agent, filename)\n",
    "\n",
    "    show_progress(\n",
    "         rewards_batch, log, percentile, reward_range=[np.min(rewards_batch), np.max(rewards_batch)]\n",
    "    )\n",
    "\n",
    "    if np.mean(rewards_batch) > 190:\n",
    "        print(\"You Win! You may stop training now via KeyboardInterrupt.\")\n"
   ]
  },
  {
   "cell_type": "code",
   "execution_count": null,
   "metadata": {
    "id": "RJwsWl4kG9zM",
    "ExecuteTime": {
     "start_time": "2023-09-18T15:19:46.993957Z"
    }
   },
   "outputs": [],
   "source": [
    "# Record sessions\n",
    "\n",
    "from gymnasium.wrappers import RecordVideo\n",
    "\n",
    "with RecordVideo(\n",
    "    env=gym.make(\"CartPole-v0\", render_mode=\"rgb_array\", max_episode_steps=10000),\n",
    "    video_folder=\"./videos\",\n",
    "    episode_trigger=lambda episode_number: True,\n",
    "    video_length=0\n",
    ") as env_monitor:\n",
    "    sessions = [generate_session(env_monitor, agent,100000) for _ in range(5)]\n"
   ]
  },
  {
   "cell_type": "code",
   "execution_count": null,
   "metadata": {
    "id": "kLPXdME7G9zN",
    "ExecuteTime": {
     "start_time": "2023-09-18T15:19:46.997236Z"
    }
   },
   "outputs": [],
   "source": [
    "# Show video. This may not work in some setups. If it doesn't\n",
    "# work for you, you can download the videos and view them locally.\n",
    "\n",
    "from pathlib import Path\n",
    "from base64 import b64encode\n",
    "from IPython.display import HTML\n",
    "\n",
    "video_paths = sorted([s for s in Path(\"videos\").iterdir() if s.suffix == \".mp4\"])\n",
    "video_path = video_paths[-1]  # You can also try other indices\n",
    "\n",
    "if \"google.colab\" in sys.modules:\n",
    "    # https://stackoverflow.com/a/57378660/1214547\n",
    "    with video_path.open(\"rb\") as fp:\n",
    "        mp4 = fp.read()\n",
    "    data_url = \"data:video/mp4;base64,\" + b64encode(mp4).decode()\n",
    "else:\n",
    "    data_url = str(video_path)\n",
    "\n",
    "HTML(\n",
    "    \"\"\"\n",
    "<video width=\"640\" height=\"480\" controls>\n",
    "  <source src=\"{}\" type=\"video/mp4\">\n",
    "</video>\n",
    "\"\"\".format(\n",
    "        data_url\n",
    "    )\n",
    ")\n"
   ]
  },
  {
   "cell_type": "markdown",
   "metadata": {
    "id": "6d_3oOQ1G9zN"
   },
   "source": [
    "# Homework part I\n",
    "\n",
    "### Tabular crossentropy method\n",
    "\n",
    "You may have noticed that the taxi problem quickly converges from -100 to a near-optimal score and then descends back into -50/-100. This is in part because the environment has some innate randomness. Namely, the starting points of passenger/driver change from episode to episode.\n",
    "\n",
    "### Tasks\n",
    "- __1.1__ (2 pts) Find out how the algorithm performance changes if you use a different `percentile` and/or `n_sessions`. Provide here some figures so we can see how the hyperparameters influence the performance.\n",
    "- __1.2__ (1 pts) Tune the algorithm to end up with positive average score.\n",
    "\n",
    "It's okay to modify the existing code.\n"
   ]
  },
  {
   "cell_type": "markdown",
   "metadata": {
    "id": "L88LySiVG9zN"
   },
   "source": [
    "```<Describe what you did here>```"
   ]
  },
  {
   "cell_type": "markdown",
   "metadata": {
    "id": "7LpAJc4rG9zN"
   },
   "source": [
    "# Homework part II\n",
    "\n",
    "### Deep crossentropy method\n",
    "\n",
    "By this moment, you should have got enough score on [CartPole-v0](https://gymnasium.farama.org/environments/classic_control/cart_pole/) to consider it solved (see the link). It's time to try something harder.\n",
    "\n",
    "* if you have any trouble with CartPole-v0 and feel stuck, feel free to ask us or your peers for help.\n",
    "\n",
    "### Tasks\n",
    "\n",
    "* __2.1__ (3 pts) Pick one of environments: `MountainCar-v0` or `LunarLander-v2`.\n",
    "  * For MountainCar, get average reward of __at least -150__\n",
    "  * For LunarLander, get average reward of __at least +50__\n",
    "\n",
    "See the tips section below, it's kinda important.\n",
    "__Note:__ If your agent is below the target score, you'll still get some of the points depending on the result, so don't be afraid to submit it.\n",
    "  \n",
    "  \n",
    "* __2.2__ (up to 6 pts) Devise a way to speed up training against the default version\n",
    "  * Obvious improvement: use [`joblib`](https://joblib.readthedocs.io/en/latest/). However, note that you will probably need to spawn a new environment in each of the workers instead of passing it via pickling. (2 pts)\n",
    "  * Try re-using samples from 3-5 last iterations when computing threshold and training. (2 pts)\n",
    "  * Obtain __-100__ at `MountainCar-v0` or __+200__ at `LunarLander-v2` (2 pts). Feel free to experiment with hyperparameters, architectures, schedules etc.\n",
    "  \n",
    "__Please list what you did in Anytask submission form__. This reduces probability that somebody misses something.\n",
    "  \n",
    "  \n",
    "### Tips\n",
    "* Gymnasium pages: [MountainCar](https://gymnasium.farama.org/environments/classic_control/mountain_car/), [LunarLander](https://gymnasium.farama.org/environments/box2d/lunar_lander/)\n",
    "* Sessions for MountainCar may last for 10k+ ticks. Make sure ```t_max``` param is at least 10k.\n",
    " * Also it may be a good idea to cut rewards via \">\" and not \">=\". If 90% of your sessions get reward of -10k and 10% are better, than if you use percentile 20% as threshold, R >= threshold __fails to cut off bad sessions__ while R > threshold works alright.\n",
    "* _issue with gym_: Some versions of gym limit game time by 200 ticks. This will prevent cem training in most cases. Make sure your agent is able to play for the specified __t_max__, and if it isn't, try `env = gym.make(\"MountainCar-v0\").env` or otherwise get rid of TimeLimit wrapper.\n",
    "* If you use old _swig_ lib for LunarLander-v2, you may get an error. See this [issue](https://github.com/openai/gym/issues/100) for solution.\n",
    "* If it doesn't train, it's a good idea to plot reward distribution and record sessions: they may give you some clue. If they don't, call course staff :)\n",
    "* 20-neuron network is probably not enough, feel free to experiment.\n",
    "\n",
    "You may find the following snippet useful:"
   ]
  },
  {
   "cell_type": "code",
   "execution_count": null,
   "metadata": {
    "id": "qcjz-nm_G9zN",
    "ExecuteTime": {
     "start_time": "2023-09-18T15:19:47.000161Z"
    }
   },
   "outputs": [],
   "source": [
    "def visualize_mountain_car(env, agent):\n",
    "    # Compute policy for all possible x and v (with discretization)\n",
    "    xs = np.linspace(env.min_position, env.max_position, 100)\n",
    "    vs = np.linspace(-env.max_speed, env.max_speed, 100)\n",
    "\n",
    "    grid = np.dstack(np.meshgrid(xs, vs[::-1])).transpose(1, 0, 2)\n",
    "    grid_flat = grid.reshape(len(xs) * len(vs), 2)\n",
    "    probs = (\n",
    "        agent.predict_proba(grid_flat).reshape(len(xs), len(vs), 3).transpose(1, 0, 2)\n",
    "    )\n",
    "\n",
    "    # # The above code is equivalent to the following:\n",
    "    # probs = np.empty((len(vs), len(xs), 3))\n",
    "    # for i, v in enumerate(vs[::-1]):\n",
    "    #     for j, x in enumerate(xs):\n",
    "    #         probs[i, j, :] = agent.predict_proba([[x, v]])[0]\n",
    "\n",
    "    # Draw policy\n",
    "    f, ax = plt.subplots(figsize=(7, 7))\n",
    "    ax.imshow(\n",
    "        probs,\n",
    "        extent=(env.min_position, env.max_position, -env.max_speed, env.max_speed),\n",
    "        aspect=\"auto\",\n",
    "    )\n",
    "    ax.set_title(\"Learned policy: red=left, green=nothing, blue=right\")\n",
    "    ax.set_xlabel(\"position (x)\")\n",
    "    ax.set_ylabel(\"velocity (v)\")\n",
    "\n",
    "    # Sample a trajectory and draw it\n",
    "    states, actions, _ = generate_session(env, agent)\n",
    "    states = np.array(states)\n",
    "    ax.plot(states[:, 0], states[:, 1], color=\"white\")\n",
    "\n",
    "    # Draw every 3rd action from the trajectory\n",
    "    for (x, v), a in zip(states[::3], actions[::3]):\n",
    "        if a == 0:\n",
    "            plt.arrow(x, v, -0.1, 0, color=\"white\", head_length=0.02)\n",
    "        elif a == 2:\n",
    "            plt.arrow(x, v, 0.1, 0, color=\"white\", head_length=0.02)\n",
    "\n",
    "\n",
    "with gym.make(\"MountainCar-v0\", render_mode=\"rgb_arrary\").env as env:\n",
    "    visualize_mountain_car(env, agent)\n"
   ]
  },
  {
   "cell_type": "markdown",
   "metadata": {
    "id": "Dzk41lDPG9zO"
   },
   "source": [
    "### Bonus tasks\n",
    "\n",
    "* __2.3 bonus__ (2 pts) Try to find a network architecture and training params that solve __both__ environments above (_Points depend on implementation. If you attempted this task, please mention it in Anytask submission._)\n",
    "\n",
    "* __2.4 bonus__ (4 pts) Solve continuous action space task with `MLPRegressor` or similar.\n",
    "  * Since your agent only predicts the \"expected\" action, you will have to add noise to ensure exploration.\n",
    "  * Choose one of [MountainCarContinuous-v0](https://gymnasium.farama.org/environments/classic_control/mountain_car_continuous/) (90+ pts to solve), [LunarLanderContinuous-v2](https://gymnasium.farama.org/environments/box2d/lunar_lander/) (`env = gym.make(\"LunarLander-v2\", continuous=True)`)(200+ pts to solve)\n",
    "  * 4 points for solving. Slightly less for getting some results below solution threshold. Note that discrete and continuous environments may have slightly different rules, aside from action spaces."
   ]
  }
 ],
 "metadata": {
  "colab": {
   "provenance": []
  },
  "kernelspec": {
   "display_name": "Python 3",
   "language": "python",
   "name": "python3"
  },
  "language_info": {
   "codemirror_mode": {
    "name": "ipython",
    "version": 3
   },
   "file_extension": ".py",
   "mimetype": "text/x-python",
   "name": "python",
   "nbconvert_exporter": "python",
   "pygments_lexer": "ipython3",
   "version": "3.11.5"
  }
 },
 "nbformat": 4,
 "nbformat_minor": 0
}
