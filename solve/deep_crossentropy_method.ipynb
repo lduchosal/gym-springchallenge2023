{
 "cells": [
  {
   "cell_type": "markdown",
   "metadata": {
    "id": "I_i1q1TWG9zH"
   },
   "source": [
    "# Deep Crossentropy method\n",
    "\n",
    "In this section we'll extend your CEM implementation with neural networks! You will train a multi-layer neural network to solve simple continuous state space games. __Please make sure you're done with tabular crossentropy method from the previous notebook.__\n",
    "\n",
    "![img](https://watanimg.elwatannews.com/old_news_images/large/249765_Large_20140709045740_11.jpg)\n",
    "\n"
   ]
  },
  {
   "cell_type": "code",
   "execution_count": 1,
   "metadata": {
    "id": "t4CJ1sRyG9zJ"
   },
   "outputs": [
    {
     "name": "stdout",
     "output_type": "stream",
     "text": [
      "bash: ../xvfb: No such file or directory\n"
     ]
    }
   ],
   "source": [
    "import sys, os\n",
    "if 'google.colab' in sys.modules and not os.path.exists('.setup_complete'):\n",
    "    !wget -q https://raw.githubusercontent.com/yandexdataschool/Practical_RL/master/setup_colab.sh -O- | bash\n",
    "    !touch .setup_complete\n",
    "\n",
    "# This code creates a virtual display to draw game images on.\n",
    "# It will have no effect if your machine has a monitor.\n",
    "if type(os.environ.get(\"DISPLAY\")) is not str or len(os.environ.get(\"DISPLAY\")) == 0:\n",
    "    !bash ../xvfb start\n",
    "    os.environ['DISPLAY'] = ':1'"
   ]
  },
  {
   "cell_type": "code",
   "execution_count": 2,
   "metadata": {
    "id": "C2xd5vPwPVCb"
   },
   "outputs": [
    {
     "name": "stdout",
     "output_type": "stream",
     "text": [
      "Defaulting to user installation because normal site-packages is not writeable\n",
      "Requirement already satisfied: gymnasium[classic_control,toy_text] in /Users/luc/Library/Python/3.11/lib/python/site-packages (0.29.0)\n",
      "Requirement already satisfied: numpy>=1.21.0 in /opt/homebrew/lib/python3.11/site-packages (from gymnasium[classic_control,toy_text]) (1.24.2)\n",
      "Requirement already satisfied: cloudpickle>=1.2.0 in /Users/luc/Library/Python/3.11/lib/python/site-packages (from gymnasium[classic_control,toy_text]) (2.2.1)\n",
      "Requirement already satisfied: typing-extensions>=4.3.0 in /Users/luc/Library/Python/3.11/lib/python/site-packages (from gymnasium[classic_control,toy_text]) (4.7.1)\n",
      "Requirement already satisfied: farama-notifications>=0.0.1 in /Users/luc/Library/Python/3.11/lib/python/site-packages (from gymnasium[classic_control,toy_text]) (0.0.4)\n",
      "Requirement already satisfied: pygame>=2.1.3 in /Users/luc/Library/Python/3.11/lib/python/site-packages (from gymnasium[classic_control,toy_text]) (2.4.0)\n",
      "Defaulting to user installation because normal site-packages is not writeable\n",
      "Requirement already satisfied: joblist in /Users/luc/Library/Python/3.11/lib/python/site-packages (2.0.3)\n",
      "Requirement already satisfied: w3lib in /Users/luc/Library/Python/3.11/lib/python/site-packages (from joblist) (2.1.2)\n"
     ]
    }
   ],
   "source": [
    "# Install gymnasium if you didn't\n",
    "!pip install \"gymnasium[toy_text,classic_control]\"\n",
    "!pip install joblist"
   ]
  },
  {
   "cell_type": "code",
   "execution_count": 3,
   "metadata": {},
   "outputs": [
    {
     "name": "stdout",
     "output_type": "stream",
     "text": [
      "AntLeagueEnv __init__\n"
     ]
    }
   ],
   "source": [
    "from springchallenge2023.envs.ant_league import AntLeagueEnv\n",
    "from springchallenge2023.wrappers.MultipleStepWrapper import MultipleStepWrapper\n",
    "from springchallenge2023.wrappers.EncodeCellType import EncodeCellType\n",
    "from springchallenge2023.wrappers.ComputeEggCrystalRatio import ComputeEggCrystalRatio\n",
    "from springchallenge2023.wrappers.Normalize import Normalize\n",
    "from springchallenge2023.wrappers.BeaconAction import BeaconAction\n",
    "\n",
    "\n",
    "import gymnasium as gym\n",
    "\n",
    "from gymnasium.wrappers import FlattenObservation\n",
    "\n",
    "import sys\n",
    "sys.path.append('../')\n",
    "\n",
    "import numpy as np\n",
    "import matplotlib.pyplot as plt\n",
    "%matplotlib inline\n",
    "\n",
    "# if you see \"<classname> has no attribute .env\", remove .env or update gym\n",
    "env = gym.make(\"springchallenge2023/AntLeague-v0\", max_episode_steps=10000).env\n",
    "env = BeaconAction(env)                            # obs (15, 5)  int,   action (15,) float\n",
    "env = EncodeCellType(env)                          # obs (15, 11) int,   action (15,)\n",
    "env = ComputeEggCrystalRatio(env)                  # { map = obs (15, 13) float, ratio = float }, action (31,)\n",
    "env = Normalize(env)                               # { map = obs (15, 13) float, ratio = float }, action (31,)\n",
    "env = FlattenObservation(env)                      # obs (167, ) float, action (15,)\n",
    "seed = 10"
   ]
  },
  {
   "cell_type": "code",
   "execution_count": 4,
   "metadata": {
    "id": "_2zbc7ahG9zK"
   },
   "outputs": [
    {
     "name": "stdout",
     "output_type": "stream",
     "text": [
      "state vector dim = 167\n",
      "n_actions = Box(0.0, 1.0, (15,), float64)\n"
     ]
    }
   ],
   "source": [
    "\n",
    "env.reset(seed=seed)\n",
    "n_actions = env.action_space\n",
    "state_dim = env.observation_space.shape[0]\n",
    "\n",
    "# plt.imshow(env.render())\n",
    "print(\"state vector dim =\", state_dim)\n",
    "print(\"n_actions =\", n_actions)\n",
    "\n",
    "#env.close()"
   ]
  },
  {
   "cell_type": "markdown",
   "metadata": {
    "id": "Z72_alhdG9zK"
   },
   "source": [
    "# Neural Network Policy\n",
    "\n",
    "For this assignment we'll utilize the simplified neural network implementation from __[Scikit-learn](https://scikit-learn.org/stable/modules/generated/sklearn.neural_network.MLPClassifier.html)__. Here's what you'll need:\n",
    "\n",
    "* `agent.partial_fit(states, actions)` - make a single training pass over the data. Maximize the probability of :actions: from :states:\n",
    "* `agent.predict_proba(states)` - predict probabilities of all actions, a matrix of shape __[len(states), n_actions]__\n"
   ]
  },
  {
   "cell_type": "code",
   "execution_count": 5,
   "metadata": {
    "id": "wLItY4unG9zL"
   },
   "outputs": [
    {
     "name": "stdout",
     "output_type": "stream",
     "text": [
      "env0:  (122,)\n",
      "aenv0:  [array([0.        , 1.        , 0.        , 0.        , 0.2       ,\n",
      "       0.        , 0.        , 0.        , 1.        , 0.        ,\n",
      "       0.        , 0.        , 0.        , 0.        , 0.        ,\n",
      "       0.        , 1.        , 0.        , 0.        , 0.        ,\n",
      "       0.        , 0.        , 0.        , 0.        , 0.        ,\n",
      "       1.        , 0.        , 0.        , 1.        , 0.        ,\n",
      "       0.        , 0.        , 0.        , 1.        , 0.        ,\n",
      "       0.        , 1.        , 0.        , 0.        , 0.        ,\n",
      "       0.        , 1.        , 0.        , 0.        , 0.90909091,\n",
      "       0.        , 0.        , 0.        , 0.        , 1.        ,\n",
      "       0.        , 0.        , 0.90909091, 0.        , 0.        ,\n",
      "       0.        , 1.        , 0.        , 0.        , 0.        ,\n",
      "       0.        , 0.        , 0.        , 0.        , 1.        ,\n",
      "       0.        , 0.        , 0.        , 0.        , 0.        ,\n",
      "       0.        , 0.        , 0.        , 0.        , 1.        ,\n",
      "       0.        , 0.        , 0.        , 1.        , 0.        ,\n",
      "       0.        , 0.        , 0.        , 1.        , 0.        ,\n",
      "       0.        , 0.        , 1.        , 1.        , 0.        ,\n",
      "       0.        , 0.        , 0.        , 0.        , 0.        ,\n",
      "       0.        , 1.        , 0.        , 0.        , 0.        ,\n",
      "       0.        , 0.        , 0.        , 0.        , 1.        ,\n",
      "       0.        , 0.        , 0.        , 0.        , 0.        ,\n",
      "       0.        , 0.        , 1.        , 0.        , 0.        ,\n",
      "       0.        , 0.        , 0.        , 0.        , 0.        ,\n",
      "       0.05429864, 1.        ])]\n",
      "n_actions:  Box(0.0, 1.0, (15,), float64)\n",
      "act0:  [0.18651417 0.27849499 0.68479797 0.13818037 0.31169693 0.46981316\n",
      " 0.82769144 0.68818375 0.97879827 0.10290738 0.1037904  0.86481438\n",
      " 0.74585294 0.8563441  0.53758926]\n"
     ]
    },
    {
     "data": {
      "text/html": [
       "<style>#sk-container-id-1 {color: black;}#sk-container-id-1 pre{padding: 0;}#sk-container-id-1 div.sk-toggleable {background-color: white;}#sk-container-id-1 label.sk-toggleable__label {cursor: pointer;display: block;width: 100%;margin-bottom: 0;padding: 0.3em;box-sizing: border-box;text-align: center;}#sk-container-id-1 label.sk-toggleable__label-arrow:before {content: \"▸\";float: left;margin-right: 0.25em;color: #696969;}#sk-container-id-1 label.sk-toggleable__label-arrow:hover:before {color: black;}#sk-container-id-1 div.sk-estimator:hover label.sk-toggleable__label-arrow:before {color: black;}#sk-container-id-1 div.sk-toggleable__content {max-height: 0;max-width: 0;overflow: hidden;text-align: left;background-color: #f0f8ff;}#sk-container-id-1 div.sk-toggleable__content pre {margin: 0.2em;color: black;border-radius: 0.25em;background-color: #f0f8ff;}#sk-container-id-1 input.sk-toggleable__control:checked~div.sk-toggleable__content {max-height: 200px;max-width: 100%;overflow: auto;}#sk-container-id-1 input.sk-toggleable__control:checked~label.sk-toggleable__label-arrow:before {content: \"▾\";}#sk-container-id-1 div.sk-estimator input.sk-toggleable__control:checked~label.sk-toggleable__label {background-color: #d4ebff;}#sk-container-id-1 div.sk-label input.sk-toggleable__control:checked~label.sk-toggleable__label {background-color: #d4ebff;}#sk-container-id-1 input.sk-hidden--visually {border: 0;clip: rect(1px 1px 1px 1px);clip: rect(1px, 1px, 1px, 1px);height: 1px;margin: -1px;overflow: hidden;padding: 0;position: absolute;width: 1px;}#sk-container-id-1 div.sk-estimator {font-family: monospace;background-color: #f0f8ff;border: 1px dotted black;border-radius: 0.25em;box-sizing: border-box;margin-bottom: 0.5em;}#sk-container-id-1 div.sk-estimator:hover {background-color: #d4ebff;}#sk-container-id-1 div.sk-parallel-item::after {content: \"\";width: 100%;border-bottom: 1px solid gray;flex-grow: 1;}#sk-container-id-1 div.sk-label:hover label.sk-toggleable__label {background-color: #d4ebff;}#sk-container-id-1 div.sk-serial::before {content: \"\";position: absolute;border-left: 1px solid gray;box-sizing: border-box;top: 0;bottom: 0;left: 50%;z-index: 0;}#sk-container-id-1 div.sk-serial {display: flex;flex-direction: column;align-items: center;background-color: white;padding-right: 0.2em;padding-left: 0.2em;position: relative;}#sk-container-id-1 div.sk-item {position: relative;z-index: 1;}#sk-container-id-1 div.sk-parallel {display: flex;align-items: stretch;justify-content: center;background-color: white;position: relative;}#sk-container-id-1 div.sk-item::before, #sk-container-id-1 div.sk-parallel-item::before {content: \"\";position: absolute;border-left: 1px solid gray;box-sizing: border-box;top: 0;bottom: 0;left: 50%;z-index: -1;}#sk-container-id-1 div.sk-parallel-item {display: flex;flex-direction: column;z-index: 1;position: relative;background-color: white;}#sk-container-id-1 div.sk-parallel-item:first-child::after {align-self: flex-end;width: 50%;}#sk-container-id-1 div.sk-parallel-item:last-child::after {align-self: flex-start;width: 50%;}#sk-container-id-1 div.sk-parallel-item:only-child::after {width: 0;}#sk-container-id-1 div.sk-dashed-wrapped {border: 1px dashed gray;margin: 0 0.4em 0.5em 0.4em;box-sizing: border-box;padding-bottom: 0.4em;background-color: white;}#sk-container-id-1 div.sk-label label {font-family: monospace;font-weight: bold;display: inline-block;line-height: 1.2em;}#sk-container-id-1 div.sk-label-container {text-align: center;}#sk-container-id-1 div.sk-container {/* jupyter's `normalize.less` sets `[hidden] { display: none; }` but bootstrap.min.css set `[hidden] { display: none !important; }` so we also need the `!important` here to be able to override the default hidden behavior on the sphinx rendered scikit-learn.org. See: https://github.com/scikit-learn/scikit-learn/issues/21755 */display: inline-block !important;position: relative;}#sk-container-id-1 div.sk-text-repr-fallback {display: none;}</style><div id=\"sk-container-id-1\" class=\"sk-top-container\"><div class=\"sk-text-repr-fallback\"><pre>MLPRegressor(hidden_layer_sizes=(200, 100), learning_rate=&#x27;invscaling&#x27;,\n",
       "             max_iter=1000)</pre><b>In a Jupyter environment, please rerun this cell to show the HTML representation or trust the notebook. <br />On GitHub, the HTML representation is unable to render, please try loading this page with nbviewer.org.</b></div><div class=\"sk-container\" hidden><div class=\"sk-item\"><div class=\"sk-estimator sk-toggleable\"><input class=\"sk-toggleable__control sk-hidden--visually\" id=\"sk-estimator-id-1\" type=\"checkbox\" checked><label for=\"sk-estimator-id-1\" class=\"sk-toggleable__label sk-toggleable__label-arrow\">MLPRegressor</label><div class=\"sk-toggleable__content\"><pre>MLPRegressor(hidden_layer_sizes=(200, 100), learning_rate=&#x27;invscaling&#x27;,\n",
       "             max_iter=1000)</pre></div></div></div></div></div>"
      ],
      "text/plain": [
       "MLPRegressor(hidden_layer_sizes=(200, 100), learning_rate='invscaling',\n",
       "             max_iter=1000)"
      ]
     },
     "execution_count": 5,
     "metadata": {},
     "output_type": "execute_result"
    }
   ],
   "source": [
    "from sklearn.neural_network import MLPRegressor\n",
    "\n",
    "agent = MLPRegressor(hidden_layer_sizes=(200, 100),\n",
    "                     activation='relu',\n",
    "                     max_iter=1000,\n",
    "                     solver='adam',\n",
    "                     alpha=0.0001,\n",
    "                     learning_rate='invscaling')\n",
    "\n",
    "\n",
    "env0=env.reset(seed=seed)[0]\n",
    "act0 = n_actions.sample()\n",
    "print(\"env0: \", env0.shape)\n",
    "print(\"aenv0: \", [env0])\n",
    "print(\"n_actions: \", n_actions)\n",
    "print(\"act0: \", act0)\n",
    "\n",
    "# initialize agent to the dimension of state space and number of actions\n",
    "agent.partial_fit([env0], [act0])\n"
   ]
  },
  {
   "cell_type": "code",
   "execution_count": 6,
   "metadata": {},
   "outputs": [],
   "source": [
    "import joblib\n",
    "\n",
    "filename = \"sprinchallenge2023_mplcregressor.joblib\"\n",
    "\n",
    "# load model\n",
    "agent = joblib.load(filename)\n",
    "\n"
   ]
  },
  {
   "cell_type": "code",
   "execution_count": 7,
   "metadata": {
    "id": "eyFS3oUmG9zL"
   },
   "outputs": [],
   "source": [
    "def generate_session(env, agent, t_max=10000):\n",
    "    \"\"\"\n",
    "    Play a single game using agent neural network.\n",
    "    Terminate when game finishes or after :t_max: steps\n",
    "    \"\"\"\n",
    "    states, actions = [], []\n",
    "    total_reward = 0\n",
    "\n",
    "    s, _ = env.reset(seed=seed)\n",
    "\n",
    "    for t in range(t_max):\n",
    "\n",
    "        # print(\"action_space \", env.action_space.n)\n",
    "        # print(\"state \",s)\n",
    "        # print(\"n_actions\", n_actions)\n",
    "\n",
    "        # use agent to predict a vector of action probabilities for state :s:\n",
    "        act = agent.predict(s.reshape(1, -1)).reshape(n_actions.shape,)\n",
    "\n",
    "        # print(\"act \",act)\n",
    "        # print(\"act.shape \",act.shape)\n",
    "        # print(\"n_actions.shape \",n_actions.shape)\n",
    "        assert act.shape == n_actions.shape, \"make sure probabilities are a vector (hint: np.reshape)\"\n",
    "\n",
    "        # use the probabilities you predicted to pick an action\n",
    "        # sample proportionally to the probabilities, don't just take the most likely action\n",
    "        # a = np.random.choice(range(n_actions), p=probs)\n",
    "        # ^-- hint: try np.random.choice\n",
    "\n",
    "        new_s, r, terminated, truncated, _ = env.step(act)\n",
    "\n",
    "        # record sessions like you did before\n",
    "        states.append(s)\n",
    "        actions.append(act)\n",
    "        total_reward += r\n",
    "\n",
    "        s = new_s\n",
    "        if terminated or truncated:\n",
    "            break\n",
    "    return states, actions, total_reward\n"
   ]
  },
  {
   "cell_type": "code",
   "execution_count": 8,
   "metadata": {
    "id": "4xgrTCgJG9zL"
   },
   "outputs": [
    {
     "name": "stdout",
     "output_type": "stream",
     "text": [
      "states: [[0.         1.         0.         ... 0.         0.05429864 1.        ]\n",
      " [0.         1.         0.         ... 0.         0.05763689 1.        ]\n",
      " [0.         1.         0.         ... 0.         0.05763689 1.        ]\n",
      " ...\n",
      " [0.         1.         0.         ... 0.         1.42857143 1.        ]\n",
      " [0.         1.         0.         ... 0.         1.2244898  1.        ]\n",
      " [0.         1.         0.         ... 0.         1.2        1.        ]]\n",
      "actions: [array([ 3.98999304e-01,  4.00351906e-01, -1.36142276e-03,  1.09974226e+00,\n",
      "        3.98918290e-01,  3.98889821e-01,  8.36201226e-01,  6.61971336e-03,\n",
      "        1.23733967e-04,  1.06627922e+00,  4.09650814e-02, -1.47091233e-03,\n",
      "        8.02209476e-02,  3.05939437e-02, -6.36464258e-02]), array([ 0.39295863,  0.40066563,  0.00831168,  0.97467114,  0.39174147,\n",
      "        0.4053021 ,  0.84901697, -0.05979701, -0.00247245,  0.96046878,\n",
      "        0.01849777,  0.09259751,  0.07148889, -0.00165748, -0.10286654]), array([ 0.39255177,  0.40139268,  0.00629865,  0.97517841,  0.39195782,\n",
      "        0.40616485,  0.84991451, -0.05751435, -0.0024929 ,  0.95914082,\n",
      "        0.01938891,  0.09222908,  0.07185493, -0.00280545, -0.10428599]), array([ 0.39255177,  0.40139268,  0.00629865,  0.97517841,  0.39195782,\n",
      "        0.40616485,  0.84991451, -0.05751435, -0.0024929 ,  0.95914082,\n",
      "        0.01938891,  0.09222908,  0.07185493, -0.00280545, -0.10428599]), array([ 0.3981781 ,  0.39929527, -0.00699298,  1.03609465,  0.40002134,\n",
      "        0.39514383,  0.86194861, -0.06497028, -0.00202023,  1.08041102,\n",
      "        0.0084296 ,  0.01278445,  0.08222918,  0.01037414, -0.08758778]), array([ 0.40022511,  0.40346483, -0.00422834,  1.04225768,  0.40038567,\n",
      "        0.39776233,  0.86471534, -0.06666842, -0.00164301,  1.08213457,\n",
      "        0.00689878,  0.01661064,  0.08160485,  0.01120168, -0.08336546]), array([ 0.40022511,  0.40346483, -0.00422834,  1.04225768,  0.40038567,\n",
      "        0.39776233,  0.86471534, -0.06666842, -0.00164301,  1.08213457,\n",
      "        0.00689878,  0.01661064,  0.08160485,  0.01120168, -0.08336546]), array([ 0.39801366,  0.39956332,  0.00154524,  1.02376011,  0.39700765,\n",
      "        0.39458342,  0.88072035, -0.10930062, -0.00161166,  0.99410667,\n",
      "        0.03325318,  0.10182692,  0.14052192, -0.01066399, -0.11092242]), array([ 3.98864794e-01,  4.00747469e-01, -2.38450561e-03,  1.02751557e+00,\n",
      "        3.97835187e-01,  3.99797364e-01,  8.83186369e-01, -1.05282603e-01,\n",
      "        9.65869388e-04,  9.98822456e-01,  3.17188411e-02,  9.77762769e-02,\n",
      "        1.37526363e-01, -1.16112026e-02, -1.10561342e-01]), array([ 0.39784732,  0.39431273, -0.0026304 ,  1.03264772,  0.40003381,\n",
      "        0.39390374,  0.88947242, -0.1036063 ,  0.00304282,  1.00450758,\n",
      "        0.0383625 ,  0.09619601,  0.14190294, -0.02098554, -0.11779705]), array([ 0.40277401,  0.40924345, -0.00252409,  1.01167358,  0.40590534,\n",
      "        0.39785021,  0.86369569, -0.10896417,  0.00262072,  1.04136045,\n",
      "        0.00523897,  0.0837748 ,  0.08073715, -0.0398471 , -0.09151708]), array([ 3.98604610e-01,  4.01478858e-01, -3.04554147e-04,  1.01686858e+00,\n",
      "        4.00692933e-01,  3.91754448e-01,  8.65179730e-01, -1.08728054e-01,\n",
      "       -1.97922001e-03,  1.05066576e+00,  1.28647761e-02,  8.87918537e-02,\n",
      "        8.00012196e-02, -4.55273760e-02, -9.33398663e-02]), array([ 0.40000302,  0.40795225, -0.00168516,  1.01838289,  0.40426707,\n",
      "        0.39868031,  0.86600171, -0.10881444, -0.00187482,  1.05173761,\n",
      "        0.0097454 ,  0.08486194,  0.07845383, -0.04537372, -0.09359557]), array([ 0.39856627,  0.403124  , -0.00462852,  1.02352845,  0.39904372,\n",
      "        0.39621763,  0.85737281, -0.10290729,  0.0024112 ,  1.05861992,\n",
      "        0.01211857,  0.06117995,  0.08222809, -0.05183356, -0.09086124]), array([ 4.00938627e-01,  3.96463343e-01, -2.79986992e-03,  1.02888700e+00,\n",
      "        4.02039010e-01,  3.97739159e-01,  8.70925463e-01, -1.04667740e-01,\n",
      "        1.04202368e-03,  1.04661471e+00,  1.90173602e-02,  7.29005335e-02,\n",
      "        8.53747940e-02, -5.03942630e-02, -9.58807104e-02]), array([ 0.40055771,  0.40085023, -0.00367756,  1.02397297,  0.39910275,\n",
      "        0.39560887,  0.86302847, -0.10402075,  0.00168461,  1.04723426,\n",
      "        0.01694402,  0.06788763,  0.08335897, -0.04850918, -0.09429216]), array([ 0.4010432 ,  0.3996049 , -0.00192605,  1.02277352,  0.4000177 ,\n",
      "        0.39883738,  0.86392217, -0.10310446,  0.00106976,  1.04577583,\n",
      "        0.01473931,  0.07200999,  0.08531581, -0.04879091, -0.09316951]), array([ 4.01013132e-01,  3.99424519e-01, -1.70915351e-03,  1.02314710e+00,\n",
      "        3.99663862e-01,  3.98499802e-01,  8.63736857e-01, -1.03630469e-01,\n",
      "       -2.59668134e-04,  1.04526902e+00,  1.59682801e-02,  7.26345047e-02,\n",
      "        8.59964832e-02, -4.91030190e-02, -9.36371043e-02]), array([ 0.39796872,  0.40169006, -0.00249709,  1.02261162,  0.39763599,\n",
      "        0.39686033,  0.8595125 , -0.10433447, -0.00138016,  1.05150463,\n",
      "        0.01691673,  0.0675    ,  0.08235673, -0.0504672 , -0.09444968]), array([ 3.98224983e-01,  3.98804229e-01, -2.99619467e-03,  1.01789691e+00,\n",
      "        3.97919399e-01,  3.96956218e-01,  8.57831355e-01, -1.04725354e-01,\n",
      "        8.46661518e-04,  1.04414249e+00,  1.57579271e-02,  6.86391192e-02,\n",
      "        8.11411622e-02, -4.57133824e-02, -9.36808194e-02]), array([ 0.40020664,  0.39850256, -0.00134383,  1.02052112,  0.39847843,\n",
      "        0.39874091,  0.86097354, -0.10407548, -0.00144788,  1.0434927 ,\n",
      "        0.01633313,  0.07326086,  0.08525876, -0.04775141, -0.09356518]), array([ 3.97980386e-01,  3.97458667e-01, -8.01120406e-05,  1.01666481e+00,\n",
      "        3.94596638e-01,  3.91802581e-01,  8.58914202e-01, -1.03935731e-01,\n",
      "       -2.74502949e-03,  1.04381451e+00,  2.03902904e-02,  7.18923187e-02,\n",
      "        8.53297943e-02, -4.87555681e-02, -9.69126351e-02]), array([ 0.40343287,  0.40802843, -0.0031964 ,  1.03182532,  0.40234333,\n",
      "        0.40136513,  0.86715357, -0.1028953 ,  0.00357998,  1.05842159,\n",
      "        0.00998236,  0.06264933,  0.08666374, -0.04366708, -0.09136907]), array([ 0.40661104,  0.40194666, -0.00306589,  1.03691992,  0.40345932,\n",
      "        0.40130448,  0.87619335, -0.10309555,  0.0034613 ,  1.05172915,\n",
      "        0.01552046,  0.06903908,  0.0891163 , -0.04311556, -0.0934508 ]), array([ 0.40066635,  0.3972306 , -0.00120112,  1.0204991 ,  0.39509271,\n",
      "        0.39535393,  0.8615092 , -0.096915  , -0.00398122,  1.05356543,\n",
      "        0.0100019 ,  0.06123327,  0.08231904, -0.04439211, -0.09369967]), array([ 0.39989585,  0.40410218,  0.00112538,  1.02382483,  0.39760514,\n",
      "        0.39372083,  0.86217303, -0.10170979,  0.00202188,  1.0576618 ,\n",
      "        0.01456595,  0.06347018,  0.08377616, -0.04770249, -0.09596245]), array([ 4.03410430e-01,  4.01111194e-01, -7.27696666e-04,  1.03013269e+00,\n",
      "        3.98436858e-01,  3.97782274e-01,  8.68505145e-01, -1.01452697e-01,\n",
      "        7.50489216e-04,  1.05571807e+00,  1.78376452e-02,  6.59844182e-02,\n",
      "        8.26558879e-02, -4.56432569e-02, -9.50324941e-02]), array([ 0.40453623,  0.40572555, -0.00450965,  1.03367604,  0.40524632,\n",
      "        0.4031076 ,  0.86793917, -0.10863536,  0.00168245,  1.05008876,\n",
      "        0.01355011,  0.07248273,  0.09384443, -0.04527993, -0.09638132]), array([ 4.03878178e-01,  3.99148503e-01, -8.15291502e-05,  1.03008391e+00,\n",
      "        3.99145978e-01,  3.97089283e-01,  8.69300470e-01, -1.01756806e-01,\n",
      "       -1.57572718e-03,  1.06252560e+00,  1.15439627e-02,  6.70863195e-02,\n",
      "        8.19589458e-02, -4.86816462e-02, -9.37855203e-02]), array([ 3.99466156e-01,  4.02088057e-01, -2.48042630e-04,  1.01652302e+00,\n",
      "        3.94160573e-01,  3.96460528e-01,  8.56591198e-01, -1.02205812e-01,\n",
      "       -1.06288161e-03,  1.05157798e+00,  1.53943167e-02,  6.20703153e-02,\n",
      "        7.93536044e-02, -4.17753487e-02, -9.37351235e-02]), array([ 0.40101383,  0.40461237, -0.00209727,  1.02555352,  0.39996522,\n",
      "        0.39974513,  0.85947431, -0.10703092, -0.00118395,  1.05342026,\n",
      "        0.01550819,  0.06945011,  0.08702076, -0.04713019, -0.09773345]), array([ 0.40220703,  0.40166084, -0.00347445,  1.02796806,  0.401818  ,\n",
      "        0.40180568,  0.86083294, -0.11087425, -0.00140368,  1.05035904,\n",
      "        0.01532569,  0.07132785,  0.09221323, -0.0438787 , -0.09732961]), array([ 3.98560610e-01,  3.97253197e-01, -7.52230131e-04,  1.01958129e+00,\n",
      "        3.98603885e-01,  4.00609698e-01,  8.59020944e-01, -1.11091520e-01,\n",
      "       -4.71665745e-03,  1.05175258e+00,  1.61554518e-02,  6.84720045e-02,\n",
      "        9.02937294e-02, -4.60109021e-02, -9.53452605e-02]), array([ 0.40048576,  0.40178345, -0.00111488,  1.02017236,  0.39881849,\n",
      "        0.4001514 ,  0.85300908, -0.11176771, -0.00190926,  1.046328  ,\n",
      "        0.01730861,  0.07312582,  0.08617097, -0.04150408, -0.09617837]), array([ 3.97419698e-01,  4.04568290e-01, -4.55911718e-04,  1.01073240e+00,\n",
      "        3.98373463e-01,  4.01762559e-01,  8.39607475e-01, -1.08056994e-01,\n",
      "       -2.34633942e-03,  1.04394426e+00,  1.50909880e-02,  6.92334412e-02,\n",
      "        7.80751740e-02, -3.27488305e-02, -9.51027605e-02]), array([ 0.39358384,  0.39639593,  0.00398793,  0.99808408,  0.39273699,\n",
      "        0.39480425,  0.83936844, -0.10769642, -0.00372092,  1.04014288,\n",
      "        0.02047672,  0.06891605,  0.07859933, -0.03704761, -0.09745749]), array([ 3.96763264e-01,  4.01810968e-01, -3.08154836e-03,  1.01320316e+00,\n",
      "        3.98807136e-01,  3.99311120e-01,  8.38571469e-01, -1.07833381e-01,\n",
      "        4.38056516e-04,  1.04921005e+00,  1.61453832e-02,  6.48243697e-02,\n",
      "        7.60363976e-02, -3.34031362e-02, -9.46982425e-02]), array([ 0.39409284,  0.3950356 ,  0.00248304,  1.00079146,  0.39061636,\n",
      "        0.40082913,  0.83434387, -0.10696221, -0.00966953,  1.03660162,\n",
      "        0.02285588,  0.06788804,  0.07892387, -0.03435247, -0.09720202]), array([ 0.39093208,  0.3887396 ,  0.00116686,  0.99210898,  0.38754618,\n",
      "        0.39366263,  0.8284451 , -0.10716903, -0.00643928,  1.04796842,\n",
      "        0.01827702,  0.05595818,  0.07183041, -0.04051227, -0.09379109]), array([ 3.91454229e-01,  3.95007976e-01, -3.76176473e-05,  1.00540565e+00,\n",
      "        3.91223459e-01,  3.99840135e-01,  8.28644483e-01, -1.04725600e-01,\n",
      "       -2.59948594e-03,  1.04205724e+00,  2.19080248e-02,  6.37275075e-02,\n",
      "        7.19585569e-02, -3.24924641e-02, -9.56414543e-02]), array([ 3.93664813e-01,  4.03431015e-01, -4.44732040e-04,  9.97804766e-01,\n",
      "        3.98608559e-01,  4.02990443e-01,  8.26781817e-01, -1.12712954e-01,\n",
      "       -3.68344434e-03,  1.03789471e+00,  1.89493605e-02,  6.80354326e-02,\n",
      "        8.16403878e-02, -3.32112356e-02, -9.89401495e-02]), array([ 3.90851506e-01,  4.00128937e-01, -9.13361871e-04,  9.98944162e-01,\n",
      "        3.98153495e-01,  4.01059936e-01,  8.25164808e-01, -1.11019052e-01,\n",
      "       -5.70474846e-03,  1.04690743e+00,  1.80126717e-02,  6.47807697e-02,\n",
      "        7.98932219e-02, -3.41786321e-02, -9.79604527e-02]), array([ 3.91767255e-01,  4.00257463e-01, -7.94730515e-04,  1.00902502e+00,\n",
      "        4.01178763e-01,  4.04102620e-01,  8.29300734e-01, -1.08873724e-01,\n",
      "       -1.16085359e-03,  1.04769281e+00,  1.74223328e-02,  6.95698600e-02,\n",
      "        7.81872109e-02, -3.24498567e-02, -9.75426780e-02]), array([ 4.07168741e-01,  4.19275806e-01, -9.73894331e-04,  1.00397755e+00,\n",
      "        3.97848304e-01,  4.03148668e-01,  8.17804755e-01, -1.29666202e-01,\n",
      "        2.90550257e-03,  1.03942871e+00,  1.48837888e-02,  6.61815903e-02,\n",
      "        8.30699867e-02, -1.93703770e-02, -9.15843946e-02]), array([ 0.3978629 ,  0.40463464, -0.00129493,  1.00101141,  0.39963329,\n",
      "        0.40423177,  0.81349657, -0.12080853, -0.00417795,  1.04578059,\n",
      "        0.02157664,  0.06430961,  0.08003836, -0.02498213, -0.10218361]), array([ 3.96948577e-01,  4.06892217e-01, -1.84984428e-03,  1.00452426e+00,\n",
      "        3.98931276e-01,  4.04929739e-01,  8.10196807e-01, -1.16150676e-01,\n",
      "        8.90741022e-04,  1.04572774e+00,  1.80036792e-02,  6.31500169e-02,\n",
      "        7.66976188e-02, -2.15988990e-02, -9.98291362e-02]), array([ 0.4043451 ,  0.4141692 , -0.00387614,  0.9604987 ,  0.40188376,\n",
      "        0.40587837,  0.76710339, -0.14405471, -0.00579458,  1.02958541,\n",
      "        0.00166551,  0.05521167,  0.07883376,  0.01796988, -0.10174382]), array([ 0.39404223,  0.39846054, -0.00316552,  0.95982805,  0.4013147 ,\n",
      "        0.39833072,  0.76157998, -0.13885426, -0.00739938,  1.03428058,\n",
      "        0.00384717,  0.05465218,  0.08672382,  0.01530494, -0.11024473]), array([ 0.39380999,  0.40083757, -0.0017818 ,  0.9667104 ,  0.4007023 ,\n",
      "        0.39940784,  0.76333525, -0.14131746, -0.00399121,  1.0390515 ,\n",
      "        0.00457782,  0.05403814,  0.07850956,  0.01220343, -0.10802614])]\n",
      "reward: 1551.5009107468125\n"
     ]
    }
   ],
   "source": [
    "dummy_states, dummy_actions, dummy_reward = generate_session(env, agent, t_max=100)\n",
    "print(\"states:\", np.stack(dummy_states))\n",
    "print(\"actions:\", dummy_actions)\n",
    "print(\"reward:\", dummy_reward)\n"
   ]
  },
  {
   "cell_type": "markdown",
   "metadata": {
    "id": "p85lt16qG9zL"
   },
   "source": [
    "### CEM steps\n",
    "Deep CEM uses exactly the same strategy as the regular CEM, so you can copy your function code from previous notebook.\n",
    "\n",
    "The only difference is that now each observation is not a number but a `float32` vector."
   ]
  },
  {
   "cell_type": "code",
   "execution_count": 9,
   "metadata": {
    "id": "4On-p7p4G9zL"
   },
   "outputs": [],
   "source": [
    "def select_elites(states_batch, actions_batch, rewards_batch, percentile=50):\n",
    "    \"\"\"\n",
    "    Select states and actions from games that have rewards >= percentile\n",
    "    :param states_batch: list of lists of states, states_batch[session_i][t]\n",
    "    :param actions_batch: list of lists of actions, actions_batch[session_i][t]\n",
    "    :param rewards_batch: list of rewards, rewards_batch[session_i]\n",
    "\n",
    "    :returns: elite_states,elite_actions, both 1D lists of states and respective actions from elite sessions\n",
    "\n",
    "    Please return elite states and actions in their original order\n",
    "    [i.e. sorted by session number and timestep within session]\n",
    "\n",
    "    If you are confused, see examples below. Please don't assume that states are integers\n",
    "    (they will become different later).\n",
    "    \"\"\"\n",
    "    debug = False\n",
    "    if debug:\n",
    "        print(\"states_batch \",states_batch)\n",
    "        print(\"actions_batch \",actions_batch)\n",
    "        print(\"rewards_batch \",rewards_batch)\n",
    "        print(\"percentile \",percentile)\n",
    "    \n",
    "    reward_threshold = np.percentile(rewards_batch, percentile)\n",
    "    if debug:\n",
    "        print(\"reward_threshold \", reward_threshold)\n",
    "\n",
    "    reward_select = np.zeros_like(rewards_batch)\n",
    "    reward_select[rewards_batch >= reward_threshold] = 1\n",
    "    if debug:\n",
    "        print(\"reward_select \", reward_select)\n",
    "\n",
    "    elite_states = []\n",
    "    elite_actions = []\n",
    "\n",
    "    for index, item in enumerate(reward_select):\n",
    "        if item:\n",
    "            elite_states.extend(states_batch[index])\n",
    "            elite_actions.extend(actions_batch[index])\n",
    "\n",
    "    if debug:\n",
    "        print(\"elite_states \", elite_states)\n",
    "        print(\"elite_actions \", elite_actions)\n",
    "\n",
    "    return elite_states, elite_actions\n"
   ]
  },
  {
   "cell_type": "code",
   "execution_count": 10,
   "metadata": {},
   "outputs": [
    {
     "name": "stdout",
     "output_type": "stream",
     "text": [
      "Ok!\n"
     ]
    }
   ],
   "source": [
    "states_batch = [\n",
    "    [[-0.1, -0.1,  0.1,  0.1],\n",
    "    [-0.2, -0.2,  0.2,  0.2],\n",
    "    [-0.3,  -0.3,  0.3,  0.3 ],\n",
    "    [-0.4, -0.4,   0.4,  0.4  ],\n",
    "    [-0.5, -0.5,  0.5,  0.5 ]] ,  # game1\n",
    "    \n",
    "    [[-1.1, -0.1,  0.1,  0.1],\n",
    "    [-1.2, -0.2,  0.2,  0.2],\n",
    "    [-1.3,  -0.3,  0.3,  0.3 ],\n",
    "    [-1.4, -0.4,   0.4,  0.4  ],\n",
    "    [-1.5, -0.5,  0.5,  0.5 ]] ,  # game2\n",
    "        \n",
    "    [[-2.1, -0.1,  0.1,  0.1],\n",
    "    [-2.2, -0.2,  0.2,  0.2],\n",
    "    [-2.3,  -0.3,  0.3,  0.3 ]],   # game3\n",
    "]\n",
    "\n",
    "actions_batch = [\n",
    "    [0, 0, 0, 0, 1],     # game1\n",
    "    [0, 1, 0, 1, 1],  # game2\n",
    "    [0, 0, 0],        # game3\n",
    "]\n",
    "rewards_batch = [\n",
    "    5.0,  # game1\n",
    "    5.0,  # game2\n",
    "    3.0,  # game3\n",
    "]\n",
    "\n",
    "test_result_0 = select_elites(states_batch, actions_batch, rewards_batch, percentile=0)\n",
    "test_result_30 = select_elites(\n",
    "    states_batch, actions_batch, rewards_batch, percentile=30\n",
    ")\n",
    "test_result_100 = select_elites(\n",
    "    states_batch, actions_batch, rewards_batch, percentile=100\n",
    ")\n",
    "\n",
    "assert np.all(\n",
    "    test_result_0[0] == [\n",
    "    [-0.1, -0.1,  0.1,  0.1],\n",
    "    [-0.2, -0.2,  0.2,  0.2],\n",
    "    [-0.3,  -0.3,  0.3,  0.3 ],\n",
    "    [-0.4, -0.4,   0.4,  0.4  ],\n",
    "    [-0.5, -0.5,  0.5,  0.5 ]\n",
    "    ,\n",
    "    [-1.1, -0.1,  0.1,  0.1],\n",
    "    [-1.2, -0.2,  0.2,  0.2],\n",
    "    [-1.3,  -0.3,  0.3,  0.3 ],\n",
    "    [-1.4, -0.4,   0.4,  0.4  ],\n",
    "    [-1.5, -0.5,  0.5,  0.5 ]\n",
    "    ,\n",
    "    [-2.1, -0.1,  0.1,  0.1],\n",
    "    [-2.2, -0.2,  0.2,  0.2],\n",
    "    [-2.3,  -0.3,  0.3,  0.3 ]\n",
    "    ]\n",
    "    and test_result_0[1] == [\n",
    "        0, 0, 0, 0, 1,     # game1\n",
    "        0, 1, 0, 1, 1,  # game2\n",
    "        0, 0, 0   # game2\n",
    "    ]\n",
    "), \"For percentile 0 you should return all states and actions in chronological order\"\n",
    "\n",
    "\n",
    "assert np.all(\n",
    "    test_result_30[0] == [\n",
    "    [-0.1, -0.1,  0.1,  0.1],\n",
    "    [-0.2, -0.2,  0.2,  0.2],\n",
    "    [-0.3,  -0.3,  0.3,  0.3 ],\n",
    "    [-0.4, -0.4,   0.4,  0.4  ],\n",
    "    [-0.5, -0.5,  0.5,  0.5 ]\n",
    "    ,\n",
    "    [-1.1, -0.1,  0.1,  0.1],\n",
    "    [-1.2, -0.2,  0.2,  0.2],\n",
    "    [-1.3,  -0.3,  0.3,  0.3 ],\n",
    "    [-1.4, -0.4,   0.4,  0.4  ],\n",
    "    [-1.5, -0.5,  0.5,  0.5 ]\n",
    "    ]\n",
    "    and test_result_30[1] == [\n",
    "        0, 0, 0, 0, 1,     # game1\n",
    "        0, 1, 0, 1, 1  # game2\n",
    "    ]\n",
    "), \"For percentile 30 you should only select states/actions from two first\"\n",
    "\n",
    "assert np.all(\n",
    "    test_result_100[0] == [\n",
    "    [-0.1, -0.1,  0.1,  0.1],\n",
    "    [-0.2, -0.2,  0.2,  0.2],\n",
    "    [-0.3,  -0.3,  0.3,  0.3 ],\n",
    "    [-0.4, -0.4,   0.4,  0.4  ],\n",
    "    [-0.5, -0.5,  0.5,  0.5 ]\n",
    "    ,\n",
    "    [-1.1, -0.1,  0.1,  0.1],\n",
    "    [-1.2, -0.2,  0.2,  0.2],\n",
    "    [-1.3,  -0.3,  0.3,  0.3 ],\n",
    "    [-1.4, -0.4,   0.4,  0.4  ],\n",
    "    [-1.5, -0.5,  0.5,  0.5 ]\n",
    "    ]\n",
    "    and test_result_100[1] == [\n",
    "        0, 0, 0, 0, 1,     # game1\n",
    "        0, 1, 0, 1, 1  # game2\n",
    "    ]\n",
    "), \"Please make sure you use >=, not >. Also double-check how you compute percentile.\"\n",
    "\n",
    "print(\"Ok!\")\n"
   ]
  },
  {
   "cell_type": "markdown",
   "metadata": {
    "id": "xc40V4DaG9zM"
   },
   "source": [
    "# Training loop\n",
    "Generate sessions, select N best and fit to those."
   ]
  },
  {
   "cell_type": "code",
   "execution_count": 10,
   "metadata": {
    "id": "PPwVKwF7G9zM"
   },
   "outputs": [],
   "source": [
    "from IPython.display import clear_output\n",
    "from datetime import datetime\n",
    "\n",
    "\n",
    "def show_progress(rewards_batch, log, percentile, reward_range=[-990, +10]):\n",
    "    \"\"\"\n",
    "    A convenience function that displays training progress.\n",
    "    No cool math here, just charts.\n",
    "    \"\"\"\n",
    "\n",
    "    mean_reward = np.mean(rewards_batch)\n",
    "    threshold = np.percentile(rewards_batch, percentile)\n",
    "    log.append([mean_reward, threshold])\n",
    "\n",
    "    clear_output(True)\n",
    "    print(\"mean reward = %.3f, threshold=%.3f\" % (mean_reward, threshold))\n",
    "    print(\"date %s\" % (datetime.now()))\n",
    "    plt.figure(figsize=[8, 4])\n",
    "    plt.subplot(1, 2, 1)\n",
    "    plt.plot(list(zip(*log))[0], label=\"Mean rewards\")\n",
    "    plt.plot(list(zip(*log))[1], label=\"Reward thresholds\")\n",
    "    plt.legend()\n",
    "    plt.grid()\n",
    "\n",
    "    plt.subplot(1, 2, 2)\n",
    "    plt.hist(rewards_batch, range=reward_range)\n",
    "    plt.vlines(\n",
    "        [np.percentile(rewards_batch, percentile)],\n",
    "        [0],\n",
    "        [100],\n",
    "        label=\"percentile\",\n",
    "        color=\"red\",\n",
    "    )\n",
    "    plt.legend()\n",
    "    plt.grid()\n",
    "\n",
    "    plt.show()\n"
   ]
  },
  {
   "cell_type": "markdown",
   "metadata": {
    "id": "yeNWKjtsG9zM"
   },
   "source": [
    "# Results"
   ]
  },
  {
   "cell_type": "code",
   "execution_count": 11,
   "metadata": {},
   "outputs": [
    {
     "name": "stdout",
     "output_type": "stream",
     "text": [
      "mean reward = 559.045, threshold=63.136\n",
      "date 2023-08-30 10:02:41.799167\n"
     ]
    },
    {
     "data": {
      "image/png": "[encoded data removed]",
      "text/plain": [
       "<Figure size 800x400 with 2 Axes>"
      ]
     },
     "metadata": {},
     "output_type": "display_data"
    },
    {
     "name": "stdout",
     "output_type": "stream",
     "text": [
      "You Win! You may stop training now via KeyboardInterrupt.\n"
     ]
    }
   ],
   "source": [
    "from pprint import pprint\n",
    "n_sessions = 20\n",
    "percentile = 60\n",
    "log = []\n",
    "\n",
    "for i in range(150):\n",
    "    # generate new sessions\n",
    "    sessions = [ generate_session(env, agent, t_max=1000) for _ in range(n_sessions) ]\n",
    "\n",
    "    if False:\n",
    "        pprint(sessions)\n",
    "\n",
    "    states_batch, actions_batch, rewards_batch = map(list, zip(*sessions))\n",
    "    if False:\n",
    "        print(states_batch.shape)\n",
    "        print(actions_batch.shape)\n",
    "        print(rewards_batch.shape)\n",
    "\n",
    "    elite_states, elite_actions = select_elites(states_batch, actions_batch, rewards_batch, percentile)\n",
    "\n",
    "    if True:\n",
    "        print(elite_states)\n",
    "        print(elite_actions)\n",
    "    \n",
    "    #for a in elite_actions:\n",
    "    #     a[2] = 0\n",
    "    #     a[8] = 0\n",
    "    #     a[0] = 0.4\n",
    "    #     a[1] = 0.4\n",
    "    #     a[5] = 0.4\n",
    "    #     a[4] = 0.4\n",
    "\n",
    "    # <YOUR CODE: partial_fit agent to predict elite_actions(y) from elite_states(X)>\n",
    "    agent.partial_fit(elite_states, elite_actions)\n",
    "    # save model\n",
    "    joblib.dump(agent, filename)\n",
    "\n",
    "    show_progress(\n",
    "         rewards_batch, log, percentile, reward_range=[np.min(rewards_batch), np.max(rewards_batch)]\n",
    "    )\n",
    "\n",
    "    if np.mean(rewards_batch) > 190:\n",
    "        print(\"You Win! You may stop training now via KeyboardInterrupt.\")\n"
   ]
  },
  {
   "cell_type": "code",
   "execution_count": 11,
   "metadata": {
    "id": "RJwsWl4kG9zM"
   },
   "outputs": [
    {
     "name": "stderr",
     "output_type": "stream",
     "text": [
      "/Users/luc/Library/Python/3.11/lib/python/site-packages/gymnasium/envs/registration.py:513: DeprecationWarning: \u001B[33mWARN: The environment CartPole-v0 is out of date. You should consider upgrading to version `v1`.\u001B[0m\n",
      "  logger.deprecation(\n",
      "/Users/luc/Library/Python/3.11/lib/python/site-packages/gymnasium/wrappers/record_video.py:94: UserWarning: \u001B[33mWARN: Overwriting existing videos at /Users/luc/Projects/rl/Practical Reinforcement Learning/Practical_RL/week01_intro/videos folder (try specifying a different `video_folder` for the `RecordVideo` wrapper if this is not desired)\u001B[0m\n",
      "  logger.warn(\n",
      "/Users/luc/Library/Python/3.11/lib/python/site-packages/gymnasium/core.py:297: UserWarning: \u001B[33mWARN: env.is_vector_env to get variables from other wrappers is deprecated and will be removed in v1.0, to get this variable you can do `env.unwrapped.is_vector_env` for environment variables or `env.get_attr('is_vector_env')` that will search the reminding wrappers.\u001B[0m\n",
      "  logger.warn(\n"
     ]
    },
    {
     "name": "stdout",
     "output_type": "stream",
     "text": [
      "Moviepy - Building video /Users/luc/Projects/rl/Practical Reinforcement Learning/Practical_RL/week01_intro/videos/rl-video-episode-0.mp4.\n",
      "Moviepy - Writing video /Users/luc/Projects/rl/Practical Reinforcement Learning/Practical_RL/week01_intro/videos/rl-video-episode-0.mp4\n"
     ]
    },
    {
     "name": "stderr",
     "output_type": "stream",
     "text": [
      "                                                                   \r"
     ]
    },
    {
     "name": "stdout",
     "output_type": "stream",
     "text": [
      "Moviepy - Done !\n",
      "Moviepy - video ready /Users/luc/Projects/rl/Practical Reinforcement Learning/Practical_RL/week01_intro/videos/rl-video-episode-0.mp4\n",
      "Moviepy - Building video /Users/luc/Projects/rl/Practical Reinforcement Learning/Practical_RL/week01_intro/videos/rl-video-episode-1.mp4.\n",
      "Moviepy - Writing video /Users/luc/Projects/rl/Practical Reinforcement Learning/Practical_RL/week01_intro/videos/rl-video-episode-1.mp4\n"
     ]
    },
    {
     "name": "stderr",
     "output_type": "stream",
     "text": [
      "                                                                  \r"
     ]
    },
    {
     "name": "stdout",
     "output_type": "stream",
     "text": [
      "Moviepy - Done !\n",
      "Moviepy - video ready /Users/luc/Projects/rl/Practical Reinforcement Learning/Practical_RL/week01_intro/videos/rl-video-episode-1.mp4\n",
      "Moviepy - Building video /Users/luc/Projects/rl/Practical Reinforcement Learning/Practical_RL/week01_intro/videos/rl-video-episode-2.mp4.\n",
      "Moviepy - Writing video /Users/luc/Projects/rl/Practical Reinforcement Learning/Practical_RL/week01_intro/videos/rl-video-episode-2.mp4\n"
     ]
    },
    {
     "name": "stderr",
     "output_type": "stream",
     "text": [
      "                                                                   \r"
     ]
    },
    {
     "name": "stdout",
     "output_type": "stream",
     "text": [
      "Moviepy - Done !\n",
      "Moviepy - video ready /Users/luc/Projects/rl/Practical Reinforcement Learning/Practical_RL/week01_intro/videos/rl-video-episode-2.mp4\n",
      "Moviepy - Building video /Users/luc/Projects/rl/Practical Reinforcement Learning/Practical_RL/week01_intro/videos/rl-video-episode-3.mp4.\n",
      "Moviepy - Writing video /Users/luc/Projects/rl/Practical Reinforcement Learning/Practical_RL/week01_intro/videos/rl-video-episode-3.mp4\n"
     ]
    },
    {
     "name": "stderr",
     "output_type": "stream",
     "text": [
      "                                                                   \r"
     ]
    },
    {
     "name": "stdout",
     "output_type": "stream",
     "text": [
      "Moviepy - Done !\n",
      "Moviepy - video ready /Users/luc/Projects/rl/Practical Reinforcement Learning/Practical_RL/week01_intro/videos/rl-video-episode-3.mp4\n",
      "Moviepy - Building video /Users/luc/Projects/rl/Practical Reinforcement Learning/Practical_RL/week01_intro/videos/rl-video-episode-4.mp4.\n",
      "Moviepy - Writing video /Users/luc/Projects/rl/Practical Reinforcement Learning/Practical_RL/week01_intro/videos/rl-video-episode-4.mp4\n"
     ]
    },
    {
     "name": "stderr",
     "output_type": "stream",
     "text": [
      "                                                                   \r"
     ]
    },
    {
     "name": "stdout",
     "output_type": "stream",
     "text": [
      "Moviepy - Done !\n",
      "Moviepy - video ready /Users/luc/Projects/rl/Practical Reinforcement Learning/Practical_RL/week01_intro/videos/rl-video-episode-4.mp4\n"
     ]
    }
   ],
   "source": [
    "# Record sessions\n",
    "\n",
    "from gymnasium.wrappers import RecordVideo\n",
    "\n",
    "with RecordVideo(\n",
    "    env=gym.make(\"CartPole-v0\", render_mode=\"rgb_array\", max_episode_steps=10000),\n",
    "    video_folder=\"./videos\",\n",
    "    episode_trigger=lambda episode_number: True,\n",
    "    video_length=0\n",
    ") as env_monitor:\n",
    "    sessions = [generate_session(env_monitor, agent,100000) for _ in range(5)]\n"
   ]
  },
  {
   "cell_type": "code",
   "execution_count": null,
   "metadata": {
    "id": "kLPXdME7G9zN"
   },
   "outputs": [
    {
     "data": {
      "text/html": [
       "\n",
       "<video width=\"640\" height=\"480\" controls>\n",
       "  <source src=\"videos/rl-video-episode-9.mp4\" type=\"video/mp4\">\n",
       "</video>\n"
      ],
      "text/plain": [
       "<IPython.core.display.HTML object>"
      ]
     },
     "execution_count": 16,
     "metadata": {},
     "output_type": "execute_result"
    }
   ],
   "source": [
    "# Show video. This may not work in some setups. If it doesn't\n",
    "# work for you, you can download the videos and view them locally.\n",
    "\n",
    "from pathlib import Path\n",
    "from base64 import b64encode\n",
    "from IPython.display import HTML\n",
    "\n",
    "video_paths = sorted([s for s in Path(\"videos\").iterdir() if s.suffix == \".mp4\"])\n",
    "video_path = video_paths[-1]  # You can also try other indices\n",
    "\n",
    "if \"google.colab\" in sys.modules:\n",
    "    # https://stackoverflow.com/a/57378660/1214547\n",
    "    with video_path.open(\"rb\") as fp:\n",
    "        mp4 = fp.read()\n",
    "    data_url = \"data:video/mp4;base64,\" + b64encode(mp4).decode()\n",
    "else:\n",
    "    data_url = str(video_path)\n",
    "\n",
    "HTML(\n",
    "    \"\"\"\n",
    "<video width=\"640\" height=\"480\" controls>\n",
    "  <source src=\"{}\" type=\"video/mp4\">\n",
    "</video>\n",
    "\"\"\".format(\n",
    "        data_url\n",
    "    )\n",
    ")\n"
   ]
  },
  {
   "cell_type": "markdown",
   "metadata": {
    "id": "6d_3oOQ1G9zN"
   },
   "source": [
    "# Homework part I\n",
    "\n",
    "### Tabular crossentropy method\n",
    "\n",
    "You may have noticed that the taxi problem quickly converges from -100 to a near-optimal score and then descends back into -50/-100. This is in part because the environment has some innate randomness. Namely, the starting points of passenger/driver change from episode to episode.\n",
    "\n",
    "### Tasks\n",
    "- __1.1__ (2 pts) Find out how the algorithm performance changes if you use a different `percentile` and/or `n_sessions`. Provide here some figures so we can see how the hyperparameters influence the performance.\n",
    "- __1.2__ (1 pts) Tune the algorithm to end up with positive average score.\n",
    "\n",
    "It's okay to modify the existing code.\n"
   ]
  },
  {
   "cell_type": "markdown",
   "metadata": {
    "id": "L88LySiVG9zN"
   },
   "source": [
    "```<Describe what you did here>```"
   ]
  },
  {
   "cell_type": "markdown",
   "metadata": {
    "id": "7LpAJc4rG9zN"
   },
   "source": [
    "# Homework part II\n",
    "\n",
    "### Deep crossentropy method\n",
    "\n",
    "By this moment, you should have got enough score on [CartPole-v0](https://gymnasium.farama.org/environments/classic_control/cart_pole/) to consider it solved (see the link). It's time to try something harder.\n",
    "\n",
    "* if you have any trouble with CartPole-v0 and feel stuck, feel free to ask us or your peers for help.\n",
    "\n",
    "### Tasks\n",
    "\n",
    "* __2.1__ (3 pts) Pick one of environments: `MountainCar-v0` or `LunarLander-v2`.\n",
    "  * For MountainCar, get average reward of __at least -150__\n",
    "  * For LunarLander, get average reward of __at least +50__\n",
    "\n",
    "See the tips section below, it's kinda important.\n",
    "__Note:__ If your agent is below the target score, you'll still get some of the points depending on the result, so don't be afraid to submit it.\n",
    "  \n",
    "  \n",
    "* __2.2__ (up to 6 pts) Devise a way to speed up training against the default version\n",
    "  * Obvious improvement: use [`joblib`](https://joblib.readthedocs.io/en/latest/). However, note that you will probably need to spawn a new environment in each of the workers instead of passing it via pickling. (2 pts)\n",
    "  * Try re-using samples from 3-5 last iterations when computing threshold and training. (2 pts)\n",
    "  * Obtain __-100__ at `MountainCar-v0` or __+200__ at `LunarLander-v2` (2 pts). Feel free to experiment with hyperparameters, architectures, schedules etc.\n",
    "  \n",
    "__Please list what you did in Anytask submission form__. This reduces probability that somebody misses something.\n",
    "  \n",
    "  \n",
    "### Tips\n",
    "* Gymnasium pages: [MountainCar](https://gymnasium.farama.org/environments/classic_control/mountain_car/), [LunarLander](https://gymnasium.farama.org/environments/box2d/lunar_lander/)\n",
    "* Sessions for MountainCar may last for 10k+ ticks. Make sure ```t_max``` param is at least 10k.\n",
    " * Also it may be a good idea to cut rewards via \">\" and not \">=\". If 90% of your sessions get reward of -10k and 10% are better, than if you use percentile 20% as threshold, R >= threshold __fails to cut off bad sessions__ while R > threshold works alright.\n",
    "* _issue with gym_: Some versions of gym limit game time by 200 ticks. This will prevent cem training in most cases. Make sure your agent is able to play for the specified __t_max__, and if it isn't, try `env = gym.make(\"MountainCar-v0\").env` or otherwise get rid of TimeLimit wrapper.\n",
    "* If you use old _swig_ lib for LunarLander-v2, you may get an error. See this [issue](https://github.com/openai/gym/issues/100) for solution.\n",
    "* If it doesn't train, it's a good idea to plot reward distribution and record sessions: they may give you some clue. If they don't, call course staff :)\n",
    "* 20-neuron network is probably not enough, feel free to experiment.\n",
    "\n",
    "You may find the following snippet useful:"
   ]
  },
  {
   "cell_type": "code",
   "execution_count": 12,
   "metadata": {
    "id": "qcjz-nm_G9zN"
   },
   "outputs": [
    {
     "name": "stderr",
     "output_type": "stream",
     "text": [
      "/Users/luc/Library/Python/3.11/lib/python/site-packages/gymnasium/envs/registration.py:788: UserWarning: \u001B[33mWARN: The environment is being initialised with render_mode='rgb_arrary' that is not in the possible render_modes (['human', 'rgb_array']).\u001B[0m\n",
      "  logger.warn(\n",
      "/Users/luc/Library/Python/3.11/lib/python/site-packages/gymnasium/core.py:297: UserWarning: \u001B[33mWARN: env.min_position to get variables from other wrappers is deprecated and will be removed in v1.0, to get this variable you can do `env.unwrapped.min_position` for environment variables or `env.get_attr('min_position')` that will search the reminding wrappers.\u001B[0m\n",
      "  logger.warn(\n",
      "/Users/luc/Library/Python/3.11/lib/python/site-packages/gymnasium/core.py:297: UserWarning: \u001B[33mWARN: env.max_position to get variables from other wrappers is deprecated and will be removed in v1.0, to get this variable you can do `env.unwrapped.max_position` for environment variables or `env.get_attr('max_position')` that will search the reminding wrappers.\u001B[0m\n",
      "  logger.warn(\n",
      "/Users/luc/Library/Python/3.11/lib/python/site-packages/gymnasium/core.py:297: UserWarning: \u001B[33mWARN: env.max_speed to get variables from other wrappers is deprecated and will be removed in v1.0, to get this variable you can do `env.unwrapped.max_speed` for environment variables or `env.get_attr('max_speed')` that will search the reminding wrappers.\u001B[0m\n",
      "  logger.warn(\n"
     ]
    },
    {
     "ename": "ValueError",
     "evalue": "X has 2 features, but MLPClassifier is expecting 4 features as input.",
     "output_type": "error",
     "traceback": [
      "\u001B[0;31m---------------------------------------------------------------------------\u001B[0m",
      "\u001B[0;31mValueError\u001B[0m                                Traceback (most recent call last)",
      "Cell \u001B[0;32mIn[12], line 43\u001B[0m\n\u001B[1;32m     39\u001B[0m             plt\u001B[39m.\u001B[39marrow(x, v, \u001B[39m0.1\u001B[39m, \u001B[39m0\u001B[39m, color\u001B[39m=\u001B[39m\u001B[39m\"\u001B[39m\u001B[39mwhite\u001B[39m\u001B[39m\"\u001B[39m, head_length\u001B[39m=\u001B[39m\u001B[39m0.02\u001B[39m)\n\u001B[1;32m     42\u001B[0m \u001B[39mwith\u001B[39;00m gym\u001B[39m.\u001B[39mmake(\u001B[39m\"\u001B[39m\u001B[39mMountainCar-v0\u001B[39m\u001B[39m\"\u001B[39m, render_mode\u001B[39m=\u001B[39m\u001B[39m\"\u001B[39m\u001B[39mrgb_arrary\u001B[39m\u001B[39m\"\u001B[39m)\u001B[39m.\u001B[39menv \u001B[39mas\u001B[39;00m env:\n\u001B[0;32m---> 43\u001B[0m     visualize_mountain_car(env, agent)\n",
      "Cell \u001B[0;32mIn[12], line 9\u001B[0m, in \u001B[0;36mvisualize_mountain_car\u001B[0;34m(env, agent)\u001B[0m\n\u001B[1;32m      6\u001B[0m grid \u001B[39m=\u001B[39m np\u001B[39m.\u001B[39mdstack(np\u001B[39m.\u001B[39mmeshgrid(xs, vs[::\u001B[39m-\u001B[39m\u001B[39m1\u001B[39m]))\u001B[39m.\u001B[39mtranspose(\u001B[39m1\u001B[39m, \u001B[39m0\u001B[39m, \u001B[39m2\u001B[39m)\n\u001B[1;32m      7\u001B[0m grid_flat \u001B[39m=\u001B[39m grid\u001B[39m.\u001B[39mreshape(\u001B[39mlen\u001B[39m(xs) \u001B[39m*\u001B[39m \u001B[39mlen\u001B[39m(vs), \u001B[39m2\u001B[39m)\n\u001B[1;32m      8\u001B[0m probs \u001B[39m=\u001B[39m (\n\u001B[0;32m----> 9\u001B[0m     agent\u001B[39m.\u001B[39;49mpredict_proba(grid_flat)\u001B[39m.\u001B[39mreshape(\u001B[39mlen\u001B[39m(xs), \u001B[39mlen\u001B[39m(vs), \u001B[39m3\u001B[39m)\u001B[39m.\u001B[39mtranspose(\u001B[39m1\u001B[39m, \u001B[39m0\u001B[39m, \u001B[39m2\u001B[39m)\n\u001B[1;32m     10\u001B[0m )\n\u001B[1;32m     12\u001B[0m \u001B[39m# # The above code is equivalent to the following:\u001B[39;00m\n\u001B[1;32m     13\u001B[0m \u001B[39m# probs = np.empty((len(vs), len(xs), 3))\u001B[39;00m\n\u001B[1;32m     14\u001B[0m \u001B[39m# for i, v in enumerate(vs[::-1]):\u001B[39;00m\n\u001B[0;32m   (...)\u001B[0m\n\u001B[1;32m     17\u001B[0m \n\u001B[1;32m     18\u001B[0m \u001B[39m# Draw policy\u001B[39;00m\n\u001B[1;32m     19\u001B[0m f, ax \u001B[39m=\u001B[39m plt\u001B[39m.\u001B[39msubplots(figsize\u001B[39m=\u001B[39m(\u001B[39m7\u001B[39m, \u001B[39m7\u001B[39m))\n",
      "File \u001B[0;32m~/Library/Python/3.11/lib/python/site-packages/sklearn/neural_network/_multilayer_perceptron.py:1244\u001B[0m, in \u001B[0;36mMLPClassifier.predict_proba\u001B[0;34m(self, X)\u001B[0m\n\u001B[1;32m   1230\u001B[0m \u001B[39m\u001B[39m\u001B[39m\"\"\"Probability estimates.\u001B[39;00m\n\u001B[1;32m   1231\u001B[0m \n\u001B[1;32m   1232\u001B[0m \u001B[39mParameters\u001B[39;00m\n\u001B[0;32m   (...)\u001B[0m\n\u001B[1;32m   1241\u001B[0m \u001B[39m    model, where classes are ordered as they are in `self.classes_`.\u001B[39;00m\n\u001B[1;32m   1242\u001B[0m \u001B[39m\"\"\"\u001B[39;00m\n\u001B[1;32m   1243\u001B[0m check_is_fitted(\u001B[39mself\u001B[39m)\n\u001B[0;32m-> 1244\u001B[0m y_pred \u001B[39m=\u001B[39m \u001B[39mself\u001B[39;49m\u001B[39m.\u001B[39;49m_forward_pass_fast(X)\n\u001B[1;32m   1246\u001B[0m \u001B[39mif\u001B[39;00m \u001B[39mself\u001B[39m\u001B[39m.\u001B[39mn_outputs_ \u001B[39m==\u001B[39m \u001B[39m1\u001B[39m:\n\u001B[1;32m   1247\u001B[0m     y_pred \u001B[39m=\u001B[39m y_pred\u001B[39m.\u001B[39mravel()\n",
      "File \u001B[0;32m~/Library/Python/3.11/lib/python/site-packages/sklearn/neural_network/_multilayer_perceptron.py:207\u001B[0m, in \u001B[0;36mBaseMultilayerPerceptron._forward_pass_fast\u001B[0;34m(self, X, check_input)\u001B[0m\n\u001B[1;32m    188\u001B[0m \u001B[39m\u001B[39m\u001B[39m\"\"\"Predict using the trained model\u001B[39;00m\n\u001B[1;32m    189\u001B[0m \n\u001B[1;32m    190\u001B[0m \u001B[39mThis is the same as _forward_pass but does not record the activations\u001B[39;00m\n\u001B[0;32m   (...)\u001B[0m\n\u001B[1;32m    204\u001B[0m \u001B[39m    The decision function of the samples for each class in the model.\u001B[39;00m\n\u001B[1;32m    205\u001B[0m \u001B[39m\"\"\"\u001B[39;00m\n\u001B[1;32m    206\u001B[0m \u001B[39mif\u001B[39;00m check_input:\n\u001B[0;32m--> 207\u001B[0m     X \u001B[39m=\u001B[39m \u001B[39mself\u001B[39;49m\u001B[39m.\u001B[39;49m_validate_data(X, accept_sparse\u001B[39m=\u001B[39;49m[\u001B[39m\"\u001B[39;49m\u001B[39mcsr\u001B[39;49m\u001B[39m\"\u001B[39;49m, \u001B[39m\"\u001B[39;49m\u001B[39mcsc\u001B[39;49m\u001B[39m\"\u001B[39;49m], reset\u001B[39m=\u001B[39;49m\u001B[39mFalse\u001B[39;49;00m)\n\u001B[1;32m    209\u001B[0m \u001B[39m# Initialize first layer\u001B[39;00m\n\u001B[1;32m    210\u001B[0m activation \u001B[39m=\u001B[39m X\n",
      "File \u001B[0;32m~/Library/Python/3.11/lib/python/site-packages/sklearn/base.py:625\u001B[0m, in \u001B[0;36mBaseEstimator._validate_data\u001B[0;34m(self, X, y, reset, validate_separately, cast_to_ndarray, **check_params)\u001B[0m\n\u001B[1;32m    622\u001B[0m     out \u001B[39m=\u001B[39m X, y\n\u001B[1;32m    624\u001B[0m \u001B[39mif\u001B[39;00m \u001B[39mnot\u001B[39;00m no_val_X \u001B[39mand\u001B[39;00m check_params\u001B[39m.\u001B[39mget(\u001B[39m\"\u001B[39m\u001B[39mensure_2d\u001B[39m\u001B[39m\"\u001B[39m, \u001B[39mTrue\u001B[39;00m):\n\u001B[0;32m--> 625\u001B[0m     \u001B[39mself\u001B[39;49m\u001B[39m.\u001B[39;49m_check_n_features(X, reset\u001B[39m=\u001B[39;49mreset)\n\u001B[1;32m    627\u001B[0m \u001B[39mreturn\u001B[39;00m out\n",
      "File \u001B[0;32m~/Library/Python/3.11/lib/python/site-packages/sklearn/base.py:414\u001B[0m, in \u001B[0;36mBaseEstimator._check_n_features\u001B[0;34m(self, X, reset)\u001B[0m\n\u001B[1;32m    411\u001B[0m     \u001B[39mreturn\u001B[39;00m\n\u001B[1;32m    413\u001B[0m \u001B[39mif\u001B[39;00m n_features \u001B[39m!=\u001B[39m \u001B[39mself\u001B[39m\u001B[39m.\u001B[39mn_features_in_:\n\u001B[0;32m--> 414\u001B[0m     \u001B[39mraise\u001B[39;00m \u001B[39mValueError\u001B[39;00m(\n\u001B[1;32m    415\u001B[0m         \u001B[39mf\u001B[39m\u001B[39m\"\u001B[39m\u001B[39mX has \u001B[39m\u001B[39m{\u001B[39;00mn_features\u001B[39m}\u001B[39;00m\u001B[39m features, but \u001B[39m\u001B[39m{\u001B[39;00m\u001B[39mself\u001B[39m\u001B[39m.\u001B[39m\u001B[39m__class__\u001B[39m\u001B[39m.\u001B[39m\u001B[39m__name__\u001B[39m\u001B[39m}\u001B[39;00m\u001B[39m \u001B[39m\u001B[39m\"\u001B[39m\n\u001B[1;32m    416\u001B[0m         \u001B[39mf\u001B[39m\u001B[39m\"\u001B[39m\u001B[39mis expecting \u001B[39m\u001B[39m{\u001B[39;00m\u001B[39mself\u001B[39m\u001B[39m.\u001B[39mn_features_in_\u001B[39m}\u001B[39;00m\u001B[39m features as input.\u001B[39m\u001B[39m\"\u001B[39m\n\u001B[1;32m    417\u001B[0m     )\n",
      "\u001B[0;31mValueError\u001B[0m: X has 2 features, but MLPClassifier is expecting 4 features as input."
     ]
    }
   ],
   "source": [
    "def visualize_mountain_car(env, agent):\n",
    "    # Compute policy for all possible x and v (with discretization)\n",
    "    xs = np.linspace(env.min_position, env.max_position, 100)\n",
    "    vs = np.linspace(-env.max_speed, env.max_speed, 100)\n",
    "\n",
    "    grid = np.dstack(np.meshgrid(xs, vs[::-1])).transpose(1, 0, 2)\n",
    "    grid_flat = grid.reshape(len(xs) * len(vs), 2)\n",
    "    probs = (\n",
    "        agent.predict_proba(grid_flat).reshape(len(xs), len(vs), 3).transpose(1, 0, 2)\n",
    "    )\n",
    "\n",
    "    # # The above code is equivalent to the following:\n",
    "    # probs = np.empty((len(vs), len(xs), 3))\n",
    "    # for i, v in enumerate(vs[::-1]):\n",
    "    #     for j, x in enumerate(xs):\n",
    "    #         probs[i, j, :] = agent.predict_proba([[x, v]])[0]\n",
    "\n",
    "    # Draw policy\n",
    "    f, ax = plt.subplots(figsize=(7, 7))\n",
    "    ax.imshow(\n",
    "        probs,\n",
    "        extent=(env.min_position, env.max_position, -env.max_speed, env.max_speed),\n",
    "        aspect=\"auto\",\n",
    "    )\n",
    "    ax.set_title(\"Learned policy: red=left, green=nothing, blue=right\")\n",
    "    ax.set_xlabel(\"position (x)\")\n",
    "    ax.set_ylabel(\"velocity (v)\")\n",
    "\n",
    "    # Sample a trajectory and draw it\n",
    "    states, actions, _ = generate_session(env, agent)\n",
    "    states = np.array(states)\n",
    "    ax.plot(states[:, 0], states[:, 1], color=\"white\")\n",
    "\n",
    "    # Draw every 3rd action from the trajectory\n",
    "    for (x, v), a in zip(states[::3], actions[::3]):\n",
    "        if a == 0:\n",
    "            plt.arrow(x, v, -0.1, 0, color=\"white\", head_length=0.02)\n",
    "        elif a == 2:\n",
    "            plt.arrow(x, v, 0.1, 0, color=\"white\", head_length=0.02)\n",
    "\n",
    "\n",
    "with gym.make(\"MountainCar-v0\", render_mode=\"rgb_arrary\").env as env:\n",
    "    visualize_mountain_car(env, agent)\n"
   ]
  },
  {
   "cell_type": "markdown",
   "metadata": {
    "id": "Dzk41lDPG9zO"
   },
   "source": [
    "### Bonus tasks\n",
    "\n",
    "* __2.3 bonus__ (2 pts) Try to find a network architecture and training params that solve __both__ environments above (_Points depend on implementation. If you attempted this task, please mention it in Anytask submission._)\n",
    "\n",
    "* __2.4 bonus__ (4 pts) Solve continuous action space task with `MLPRegressor` or similar.\n",
    "  * Since your agent only predicts the \"expected\" action, you will have to add noise to ensure exploration.\n",
    "  * Choose one of [MountainCarContinuous-v0](https://gymnasium.farama.org/environments/classic_control/mountain_car_continuous/) (90+ pts to solve), [LunarLanderContinuous-v2](https://gymnasium.farama.org/environments/box2d/lunar_lander/) (`env = gym.make(\"LunarLander-v2\", continuous=True)`)(200+ pts to solve)\n",
    "  * 4 points for solving. Slightly less for getting some results below solution threshold. Note that discrete and continuous environments may have slightly different rules, aside from action spaces."
   ]
  }
 ],
 "metadata": {
  "colab": {
   "provenance": []
  },
  "kernelspec": {
   "display_name": "Python 3",
   "language": "python",
   "name": "python3"
  },
  "language_info": {
   "codemirror_mode": {
    "name": "ipython",
    "version": 3
   },
   "file_extension": ".py",
   "mimetype": "text/x-python",
   "name": "python",
   "nbconvert_exporter": "python",
   "pygments_lexer": "ipython3",
   "version": "3.11.5"
  }
 },
 "nbformat": 4,
 "nbformat_minor": 0
}
